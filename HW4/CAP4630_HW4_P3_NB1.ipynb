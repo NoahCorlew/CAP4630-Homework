{
  "nbformat": 4,
  "nbformat_minor": 0,
  "metadata": {
    "colab": {
      "name": "CAP4630_HW4_P3_NB1",
      "provenance": [],
      "collapsed_sections": [],
      "include_colab_link": true
    },
    "kernelspec": {
      "name": "python3",
      "display_name": "Python 3"
    },
    "accelerator": "GPU"
  },
  "cells": [
    {
      "cell_type": "markdown",
      "metadata": {
        "id": "view-in-github",
        "colab_type": "text"
      },
      "source": [
        "<a href=\"https://colab.research.google.com/github/NoahCorlew/CAP4630-Homework/blob/master/HW4/CAP4630_HW4_P3_NB1.ipynb\" target=\"_parent\"><img src=\"https://colab.research.google.com/assets/colab-badge.svg\" alt=\"Open In Colab\"/></a>"
      ]
    },
    {
      "cell_type": "markdown",
      "metadata": {
        "id": "KSrgMJ5vKFzQ",
        "colab_type": "text"
      },
      "source": [
        "# ResNet50"
      ]
    },
    {
      "cell_type": "markdown",
      "metadata": {
        "id": "BqIG8QHMLNOn",
        "colab_type": "text"
      },
      "source": [
        "## Download the data"
      ]
    },
    {
      "cell_type": "markdown",
      "metadata": {
        "id": "t3I1jd7cKV6_",
        "colab_type": "text"
      },
      "source": [
        "Download the example data, a zip. of 2,000 JPG pictures of cats and dogs and extract it locally in ```/tmp```.\n",
        "\n"
      ]
    },
    {
      "cell_type": "code",
      "metadata": {
        "id": "JWjprHEXJ5Qi",
        "colab_type": "code",
        "outputId": "9109297c-ccc6-4983-8251-3ca075cf7dee",
        "colab": {
          "base_uri": "https://localhost:8080/",
          "height": 206
        }
      },
      "source": [
        "!wget --no-check-certificate \\\n",
        "    https://storage.googleapis.com/mledu-datasets/cats_and_dogs_filtered.zip \\\n",
        "    -O /tmp/cats_and_dogs_filtered.zip"
      ],
      "execution_count": 0,
      "outputs": [
        {
          "output_type": "stream",
          "text": [
            "--2020-04-19 19:50:23--  https://storage.googleapis.com/mledu-datasets/cats_and_dogs_filtered.zip\n",
            "Resolving storage.googleapis.com (storage.googleapis.com)... 74.125.195.128, 2607:f8b0:400e:c04::80\n",
            "Connecting to storage.googleapis.com (storage.googleapis.com)|74.125.195.128|:443... connected.\n",
            "HTTP request sent, awaiting response... 200 OK\n",
            "Length: 68606236 (65M) [application/zip]\n",
            "Saving to: ‘/tmp/cats_and_dogs_filtered.zip’\n",
            "\n",
            "/tmp/cats_and_dogs_ 100%[===================>]  65.43M   105MB/s    in 0.6s    \n",
            "\n",
            "2020-04-19 19:50:24 (105 MB/s) - ‘/tmp/cats_and_dogs_filtered.zip’ saved [68606236/68606236]\n",
            "\n"
          ],
          "name": "stdout"
        }
      ]
    },
    {
      "cell_type": "code",
      "metadata": {
        "id": "WvoHtdA-K6Rw",
        "colab_type": "code",
        "colab": {}
      },
      "source": [
        "import os\n",
        "import zipfile\n",
        "\n",
        "local_zip = '/tmp/cats_and_dogs_filtered.zip'\n",
        "zip_ref = zipfile.ZipFile(local_zip, 'r')\n",
        "zip_ref.extractall('/tmp')\n",
        "zip_ref.close()"
      ],
      "execution_count": 0,
      "outputs": []
    },
    {
      "cell_type": "markdown",
      "metadata": {
        "id": "shZiOBnJMyy_",
        "colab_type": "text"
      },
      "source": [
        "Note that the data provided by Google does not have a test set."
      ]
    },
    {
      "cell_type": "code",
      "metadata": {
        "id": "dL8ikM89LlsH",
        "colab_type": "code",
        "colab": {}
      },
      "source": [
        "base_dir = '/tmp/cats_and_dogs_filtered'\n",
        "train_dir = os.path.join(base_dir, 'train')\n",
        "validation_dir = os.path.join(base_dir, 'validation')\n",
        "\n",
        "# Directory with our training cat pictures\n",
        "train_cats_dir = os.path.join(train_dir, 'cats')\n",
        "\n",
        "# Directory with our training dog pictures\n",
        "train_dogs_dir = os.path.join(train_dir, 'dogs')\n",
        "\n",
        "# Directory with our validation cat pictures\n",
        "validation_cats_dir = os.path.join(validation_dir, 'cats')\n",
        "\n",
        "# Directory with our validation dog pictures\n",
        "validation_dogs_dir = os.path.join(validation_dir, 'dogs')"
      ],
      "execution_count": 0,
      "outputs": []
    },
    {
      "cell_type": "markdown",
      "metadata": {
        "id": "inyP8bcdXnn-",
        "colab_type": "text"
      },
      "source": [
        "## Build network with InceptionV3 convolution base and custom densely connected layers"
      ]
    },
    {
      "cell_type": "markdown",
      "metadata": {
        "id": "kQ48W5T9rHWu",
        "colab_type": "text"
      },
      "source": [
        "### Load the convolutional base"
      ]
    },
    {
      "cell_type": "code",
      "metadata": {
        "id": "Y0FgtANCXm_H",
        "colab_type": "code",
        "outputId": "0ebb5fad-42db-44e5-812c-78110edb0e44",
        "colab": {
          "base_uri": "https://localhost:8080/",
          "height": 103
        }
      },
      "source": [
        "from keras.applications.resnet50 import ResNet50\n",
        "\n",
        "conv_base = ResNet50(\n",
        "    weights='imagenet', \n",
        "    include_top=False, \n",
        "    input_shape=(150, 150, 3))"
      ],
      "execution_count": 0,
      "outputs": [
        {
          "output_type": "stream",
          "text": [
            "Using TensorFlow backend.\n",
            "/usr/local/lib/python3.6/dist-packages/keras_applications/resnet50.py:265: UserWarning: The output shape of `ResNet50(include_top=False)` has been changed since Keras 2.2.0.\n",
            "  warnings.warn('The output shape of `ResNet50(include_top=False)` '\n"
          ],
          "name": "stderr"
        },
        {
          "output_type": "stream",
          "text": [
            "Downloading data from https://github.com/fchollet/deep-learning-models/releases/download/v0.2/resnet50_weights_tf_dim_ordering_tf_kernels_notop.h5\n",
            "94658560/94653016 [==============================] - 2s 0us/step\n"
          ],
          "name": "stdout"
        }
      ]
    },
    {
      "cell_type": "markdown",
      "metadata": {
        "id": "D6OBHOO9q1ou",
        "colab_type": "text"
      },
      "source": [
        "### Freeze the convolutional base"
      ]
    },
    {
      "cell_type": "code",
      "metadata": {
        "id": "UleRo4Dpq6Ld",
        "colab_type": "code",
        "colab": {}
      },
      "source": [
        "conv_base.trainable = False"
      ],
      "execution_count": 0,
      "outputs": []
    },
    {
      "cell_type": "markdown",
      "metadata": {
        "id": "Qfx6PqhPrb7Q",
        "colab_type": "text"
      },
      "source": [
        "### Concatenate the convolutional base and densely connected layers"
      ]
    },
    {
      "cell_type": "code",
      "metadata": {
        "id": "qUpmocDAO3xm",
        "colab_type": "code",
        "colab": {}
      },
      "source": [
        "from keras import layers\n",
        "from keras import models\n",
        "from keras import optimizers\n",
        "\n",
        "model = models.Sequential()\n",
        "model.add(conv_base)\n",
        "model.add(layers.Flatten())\n",
        "model.add(layers.Dense(256, activation='relu'))\n",
        "#model.add(layers.Dropout(0.1))\n",
        "model.add(layers.Dense(1, activation='sigmoid'))"
      ],
      "execution_count": 0,
      "outputs": []
    },
    {
      "cell_type": "code",
      "metadata": {
        "id": "Fh6gZSeAjF7c",
        "colab_type": "code",
        "outputId": "0fd38ed9-e6ba-4397-8350-4a0699fdab05",
        "colab": {
          "base_uri": "https://localhost:8080/",
          "height": 293
        }
      },
      "source": [
        "model.summary()"
      ],
      "execution_count": 0,
      "outputs": [
        {
          "output_type": "stream",
          "text": [
            "Model: \"sequential_1\"\n",
            "_________________________________________________________________\n",
            "Layer (type)                 Output Shape              Param #   \n",
            "=================================================================\n",
            "resnet50 (Model)             (None, 5, 5, 2048)        23587712  \n",
            "_________________________________________________________________\n",
            "flatten_1 (Flatten)          (None, 51200)             0         \n",
            "_________________________________________________________________\n",
            "dense_1 (Dense)              (None, 256)               13107456  \n",
            "_________________________________________________________________\n",
            "dense_2 (Dense)              (None, 1)                 257       \n",
            "=================================================================\n",
            "Total params: 36,695,425\n",
            "Trainable params: 13,107,713\n",
            "Non-trainable params: 23,587,712\n",
            "_________________________________________________________________\n"
          ],
          "name": "stdout"
        }
      ]
    },
    {
      "cell_type": "markdown",
      "metadata": {
        "id": "eZjBiddhi5Qj",
        "colab_type": "text"
      },
      "source": [
        "## Train the model end to end with frozen convolutional base"
      ]
    },
    {
      "cell_type": "code",
      "metadata": {
        "id": "tfAQlC2Oi41L",
        "colab_type": "code",
        "outputId": "e8ee161a-476b-4d56-a75a-b0c11cc4fef5",
        "colab": {
          "base_uri": "https://localhost:8080/",
          "height": 1000
        }
      },
      "source": [
        "from keras.preprocessing.image import ImageDataGenerator\n",
        "from keras import optimizers\n",
        "\n",
        "# data augmentation\n",
        "\n",
        "train_datagen = ImageDataGenerator(\n",
        "    rescale=1./255, \n",
        "    rotation_range=40,\n",
        "    width_shift_range=0.2,\n",
        "    height_shift_range=0.2,\n",
        "    shear_range=0.2,\n",
        "    zoom_range=0.2,\n",
        "    horizontal_flip=True,\n",
        "    fill_mode='nearest'\n",
        ")\n",
        "\n",
        "train_generator = train_datagen.flow_from_directory(\n",
        "    train_dir,\n",
        "    target_size=(150, 150),\n",
        "    batch_size=20,\n",
        "    class_mode='binary')\n",
        "\n",
        "validation_datagen = ImageDataGenerator(rescale=1./255)\n",
        "\n",
        "validation_generator = validation_datagen.flow_from_directory(\n",
        "    validation_dir,\n",
        "    target_size=(150, 150),\n",
        "    batch_size=20,\n",
        "    class_mode='binary')\n",
        "\n",
        "# compile model\n",
        "\n",
        "model.compile(\n",
        "    loss='binary_crossentropy', \n",
        "    optimizer=optimizers.RMSprop(lr=2e-5), \n",
        "    metrics=['acc'])\n",
        "\n",
        "# train\n",
        "\n",
        "history = model.fit_generator(\n",
        "    train_generator,\n",
        "    steps_per_epoch=100,\n",
        "    epochs=30,\n",
        "    validation_data=validation_generator,\n",
        "    validation_steps=50\n",
        ")"
      ],
      "execution_count": 0,
      "outputs": [
        {
          "output_type": "stream",
          "text": [
            "Found 2000 images belonging to 2 classes.\n",
            "Found 1000 images belonging to 2 classes.\n",
            "Epoch 1/30\n",
            "100/100 [==============================] - 26s 264ms/step - loss: 0.4024 - acc: 0.8315 - val_loss: 0.6556 - val_acc: 0.5000\n",
            "Epoch 2/30\n",
            "100/100 [==============================] - 17s 172ms/step - loss: 0.3048 - acc: 0.8775 - val_loss: 0.7494 - val_acc: 0.5000\n",
            "Epoch 3/30\n",
            "100/100 [==============================] - 17s 172ms/step - loss: 0.2540 - acc: 0.8935 - val_loss: 0.8382 - val_acc: 0.5000\n",
            "Epoch 4/30\n",
            "100/100 [==============================] - 17s 172ms/step - loss: 0.2182 - acc: 0.9230 - val_loss: 0.9187 - val_acc: 0.5000\n",
            "Epoch 5/30\n",
            "100/100 [==============================] - 17s 172ms/step - loss: 0.2171 - acc: 0.9140 - val_loss: 0.5505 - val_acc: 0.5000\n",
            "Epoch 6/30\n",
            "100/100 [==============================] - 18s 176ms/step - loss: 0.2210 - acc: 0.9110 - val_loss: 0.9873 - val_acc: 0.5000\n",
            "Epoch 7/30\n",
            "100/100 [==============================] - 17s 174ms/step - loss: 0.1945 - acc: 0.9170 - val_loss: 0.7675 - val_acc: 0.5000\n",
            "Epoch 8/30\n",
            "100/100 [==============================] - 17s 171ms/step - loss: 0.1981 - acc: 0.9245 - val_loss: 1.4231 - val_acc: 0.5000\n",
            "Epoch 9/30\n",
            "100/100 [==============================] - 17s 172ms/step - loss: 0.1929 - acc: 0.9265 - val_loss: 1.4330 - val_acc: 0.5000\n",
            "Epoch 10/30\n",
            "100/100 [==============================] - 17s 173ms/step - loss: 0.1760 - acc: 0.9325 - val_loss: 1.3735 - val_acc: 0.5000\n",
            "Epoch 11/30\n",
            "100/100 [==============================] - 17s 173ms/step - loss: 0.1570 - acc: 0.9410 - val_loss: 0.9134 - val_acc: 0.5000\n",
            "Epoch 12/30\n",
            "100/100 [==============================] - 17s 172ms/step - loss: 0.1744 - acc: 0.9350 - val_loss: 1.2428 - val_acc: 0.5000\n",
            "Epoch 13/30\n",
            "100/100 [==============================] - 17s 172ms/step - loss: 0.1483 - acc: 0.9395 - val_loss: 1.1089 - val_acc: 0.5000\n",
            "Epoch 14/30\n",
            "100/100 [==============================] - 17s 173ms/step - loss: 0.1826 - acc: 0.9280 - val_loss: 1.2867 - val_acc: 0.5000\n",
            "Epoch 15/30\n",
            "100/100 [==============================] - 17s 174ms/step - loss: 0.1569 - acc: 0.9380 - val_loss: 0.9433 - val_acc: 0.5000\n",
            "Epoch 16/30\n",
            "100/100 [==============================] - 18s 176ms/step - loss: 0.1572 - acc: 0.9345 - val_loss: 1.0260 - val_acc: 0.5000\n",
            "Epoch 17/30\n",
            "100/100 [==============================] - 17s 173ms/step - loss: 0.1532 - acc: 0.9440 - val_loss: 0.9086 - val_acc: 0.5000\n",
            "Epoch 18/30\n",
            "100/100 [==============================] - 18s 175ms/step - loss: 0.1414 - acc: 0.9420 - val_loss: 1.0639 - val_acc: 0.5000\n",
            "Epoch 19/30\n",
            "100/100 [==============================] - 17s 173ms/step - loss: 0.1429 - acc: 0.9425 - val_loss: 0.6120 - val_acc: 0.5000\n",
            "Epoch 20/30\n",
            "100/100 [==============================] - 18s 177ms/step - loss: 0.1320 - acc: 0.9490 - val_loss: 0.9254 - val_acc: 0.5000\n",
            "Epoch 21/30\n",
            "100/100 [==============================] - 18s 177ms/step - loss: 0.1415 - acc: 0.9435 - val_loss: 1.1061 - val_acc: 0.5000\n",
            "Epoch 22/30\n",
            "100/100 [==============================] - 17s 173ms/step - loss: 0.1105 - acc: 0.9560 - val_loss: 1.3147 - val_acc: 0.5000\n",
            "Epoch 23/30\n",
            "100/100 [==============================] - 17s 175ms/step - loss: 0.1245 - acc: 0.9565 - val_loss: 1.2427 - val_acc: 0.5000\n",
            "Epoch 24/30\n",
            "100/100 [==============================] - 18s 176ms/step - loss: 0.1181 - acc: 0.9555 - val_loss: 1.0475 - val_acc: 0.5000\n",
            "Epoch 25/30\n",
            "100/100 [==============================] - 18s 177ms/step - loss: 0.1279 - acc: 0.9470 - val_loss: 1.6002 - val_acc: 0.5000\n",
            "Epoch 26/30\n",
            "100/100 [==============================] - 17s 174ms/step - loss: 0.1260 - acc: 0.9565 - val_loss: 1.1117 - val_acc: 0.5000\n",
            "Epoch 27/30\n",
            "100/100 [==============================] - 17s 175ms/step - loss: 0.1191 - acc: 0.9555 - val_loss: 1.4421 - val_acc: 0.5000\n",
            "Epoch 28/30\n",
            "100/100 [==============================] - 17s 175ms/step - loss: 0.1137 - acc: 0.9595 - val_loss: 1.1423 - val_acc: 0.5000\n",
            "Epoch 29/30\n",
            "100/100 [==============================] - 18s 176ms/step - loss: 0.1103 - acc: 0.9590 - val_loss: 1.0528 - val_acc: 0.5000\n",
            "Epoch 30/30\n",
            "100/100 [==============================] - 18s 176ms/step - loss: 0.0997 - acc: 0.9610 - val_loss: 0.9274 - val_acc: 0.5000\n"
          ],
          "name": "stdout"
        }
      ]
    },
    {
      "cell_type": "markdown",
      "metadata": {
        "id": "xqRc_vHKc92U",
        "colab_type": "text"
      },
      "source": [
        "## Display curves of loss and accuracy during training"
      ]
    },
    {
      "cell_type": "code",
      "metadata": {
        "id": "ybWwdzz9bwuQ",
        "colab_type": "code",
        "outputId": "2db518da-9eaf-4980-e48e-991e65ac88ec",
        "colab": {
          "base_uri": "https://localhost:8080/",
          "height": 545
        }
      },
      "source": [
        "%matplotlib inline\n",
        "\n",
        "import matplotlib.pyplot as plt\n",
        "\n",
        "acc = history.history['acc']\n",
        "val_acc = history.history['val_acc']\n",
        "\n",
        "loss = history.history['loss']\n",
        "val_loss = history.history['val_loss']\n",
        "\n",
        "epochs = range(1, len(acc) + 1)\n",
        "\n",
        "# training and validation accuracy\n",
        "\n",
        "plt.plot(epochs, acc, 'bo', label='training acc')\n",
        "plt.plot(epochs, val_acc, 'b', label='validation acc')\n",
        "plt.title('training and validation accuracy')\n",
        "plt.legend()\n",
        "\n",
        "plt.figure()\n",
        "\n",
        "# training and validation loss\n",
        "\n",
        "plt.plot(epochs, loss, 'bo', label='training loss')\n",
        "plt.plot(epochs, val_loss, 'b', label='validation loss')\n",
        "plt.title('training and validation loss')\n",
        "plt.legend()\n",
        "\n",
        "plt.show()"
      ],
      "execution_count": 0,
      "outputs": [
        {
          "output_type": "display_data",
          "data": {
            "image/png": "[encoded data removed]",
            "text/plain": [
              "<Figure size 432x288 with 1 Axes>"
            ]
          },
          "metadata": {
            "tags": [],
            "needs_background": "light"
          }
        },
        {
          "output_type": "display_data",
          "data": {
            "image/png": "[encoded data removed]",
            "text/plain": [
              "<Figure size 432x288 with 1 Axes>"
            ]
          },
          "metadata": {
            "tags": [],
            "needs_background": "light"
          }
        }
      ]
    },
    {
      "cell_type": "markdown",
      "metadata": {
        "id": "lOWsxpey8lN0",
        "colab_type": "text"
      },
      "source": [
        "## Fine-tuning"
      ]
    },
    {
      "cell_type": "code",
      "metadata": {
        "id": "PwkVMx8N8qMw",
        "colab_type": "code",
        "colab": {}
      },
      "source": [
        "conv_base.trainable = True\n",
        "\n",
        "set_trainable = False\n",
        "for layer in conv_base.layers:\n",
        "  if layer.name == 'block5_conv1':\n",
        "    set_trainable = True\n",
        "  if set_trainable:\n",
        "    layer.trainable = True\n",
        "  else:\n",
        "    layer.trainable = False"
      ],
      "execution_count": 0,
      "outputs": []
    },
    {
      "cell_type": "code",
      "metadata": {
        "id": "DyN-J7rs9cvo",
        "colab_type": "code",
        "outputId": "cb50cf4c-fd9e-4981-c9dd-43c822ee3f40",
        "colab": {
          "base_uri": "https://localhost:8080/",
          "height": 1000
        }
      },
      "source": [
        "# compile model\n",
        "\n",
        "model.compile(\n",
        "    loss='binary_crossentropy',\n",
        "    #\n",
        "    # choose a smaller learning rate\n",
        "    #\n",
        "    optimizer=optimizers.RMSprop(lr=1e-5), \n",
        "    metrics=['acc'])\n",
        "\n",
        "# train\n",
        "\n",
        "history = model.fit_generator(\n",
        "    train_generator,\n",
        "    steps_per_epoch=100,\n",
        "    epochs=100,\n",
        "    validation_data=validation_generator,\n",
        "    validation_steps=50)"
      ],
      "execution_count": 0,
      "outputs": [
        {
          "output_type": "stream",
          "text": [
            "Epoch 1/100\n",
            "100/100 [==============================] - 21s 214ms/step - loss: 0.1136 - acc: 0.9615 - val_loss: 0.7586 - val_acc: 0.5030\n",
            "Epoch 2/100\n",
            "100/100 [==============================] - 18s 176ms/step - loss: 0.1152 - acc: 0.9640 - val_loss: 3.8445 - val_acc: 0.4800\n",
            "Epoch 3/100\n",
            "100/100 [==============================] - 18s 177ms/step - loss: 0.0952 - acc: 0.9675 - val_loss: 2.3620 - val_acc: 0.4520\n",
            "Epoch 4/100\n",
            "100/100 [==============================] - 18s 181ms/step - loss: 0.1133 - acc: 0.9600 - val_loss: 1.6571 - val_acc: 0.4690\n",
            "Epoch 5/100\n",
            "100/100 [==============================] - 18s 179ms/step - loss: 0.0778 - acc: 0.9660 - val_loss: 1.6967 - val_acc: 0.5290\n",
            "Epoch 6/100\n",
            "100/100 [==============================] - 18s 177ms/step - loss: 0.0917 - acc: 0.9645 - val_loss: 1.4010 - val_acc: 0.5980\n",
            "Epoch 7/100\n",
            "100/100 [==============================] - 18s 177ms/step - loss: 0.0876 - acc: 0.9680 - val_loss: 1.0946 - val_acc: 0.7440\n",
            "Epoch 8/100\n",
            "100/100 [==============================] - 18s 180ms/step - loss: 0.0898 - acc: 0.9620 - val_loss: 0.3556 - val_acc: 0.8630\n",
            "Epoch 9/100\n",
            "100/100 [==============================] - 18s 180ms/step - loss: 0.1037 - acc: 0.9590 - val_loss: 0.4888 - val_acc: 0.9160\n",
            "Epoch 10/100\n",
            "100/100 [==============================] - 18s 177ms/step - loss: 0.1040 - acc: 0.9605 - val_loss: 0.3094 - val_acc: 0.9470\n",
            "Epoch 11/100\n",
            "100/100 [==============================] - 18s 182ms/step - loss: 0.0999 - acc: 0.9645 - val_loss: 0.0033 - val_acc: 0.9530\n",
            "Epoch 12/100\n",
            "100/100 [==============================] - 18s 180ms/step - loss: 0.0883 - acc: 0.9645 - val_loss: 0.0305 - val_acc: 0.9580\n",
            "Epoch 13/100\n",
            "100/100 [==============================] - 18s 180ms/step - loss: 0.0734 - acc: 0.9720 - val_loss: 0.2162 - val_acc: 0.9490\n",
            "Epoch 14/100\n",
            "100/100 [==============================] - 18s 179ms/step - loss: 0.0874 - acc: 0.9650 - val_loss: 0.0063 - val_acc: 0.9530\n",
            "Epoch 15/100\n",
            "100/100 [==============================] - 18s 179ms/step - loss: 0.0787 - acc: 0.9715 - val_loss: 0.2491 - val_acc: 0.9530\n",
            "Epoch 16/100\n",
            "100/100 [==============================] - 18s 179ms/step - loss: 0.0704 - acc: 0.9745 - val_loss: 0.0079 - val_acc: 0.9570\n",
            "Epoch 17/100\n",
            "100/100 [==============================] - 18s 181ms/step - loss: 0.0832 - acc: 0.9685 - val_loss: 0.3136 - val_acc: 0.9510\n",
            "Epoch 18/100\n",
            "100/100 [==============================] - 18s 181ms/step - loss: 0.0908 - acc: 0.9695 - val_loss: 6.2653e-04 - val_acc: 0.9590\n",
            "Epoch 19/100\n",
            "100/100 [==============================] - 18s 179ms/step - loss: 0.0982 - acc: 0.9640 - val_loss: 0.3033 - val_acc: 0.9480\n",
            "Epoch 20/100\n",
            "100/100 [==============================] - 18s 178ms/step - loss: 0.0813 - acc: 0.9715 - val_loss: 0.5113 - val_acc: 0.9460\n",
            "Epoch 21/100\n",
            "100/100 [==============================] - 18s 181ms/step - loss: 0.0998 - acc: 0.9640 - val_loss: 0.3167 - val_acc: 0.9580\n",
            "Epoch 22/100\n",
            "100/100 [==============================] - 18s 179ms/step - loss: 0.0809 - acc: 0.9725 - val_loss: 0.0250 - val_acc: 0.9560\n",
            "Epoch 23/100\n",
            "100/100 [==============================] - 18s 179ms/step - loss: 0.0786 - acc: 0.9730 - val_loss: 0.1727 - val_acc: 0.9530\n",
            "Epoch 24/100\n",
            "100/100 [==============================] - 18s 180ms/step - loss: 0.1001 - acc: 0.9670 - val_loss: 0.2811 - val_acc: 0.9590\n",
            "Epoch 25/100\n",
            "100/100 [==============================] - 18s 179ms/step - loss: 0.0756 - acc: 0.9730 - val_loss: 0.0524 - val_acc: 0.9540\n",
            "Epoch 26/100\n",
            "100/100 [==============================] - 18s 181ms/step - loss: 0.0756 - acc: 0.9735 - val_loss: 0.1514 - val_acc: 0.9580\n",
            "Epoch 27/100\n",
            "100/100 [==============================] - 18s 180ms/step - loss: 0.0813 - acc: 0.9710 - val_loss: 0.1122 - val_acc: 0.9590\n",
            "Epoch 28/100\n",
            "100/100 [==============================] - 18s 184ms/step - loss: 0.0698 - acc: 0.9740 - val_loss: 0.7316 - val_acc: 0.9510\n",
            "Epoch 29/100\n",
            "100/100 [==============================] - 18s 180ms/step - loss: 0.0643 - acc: 0.9790 - val_loss: 0.2762 - val_acc: 0.9530\n",
            "Epoch 30/100\n",
            "100/100 [==============================] - 18s 180ms/step - loss: 0.0695 - acc: 0.9740 - val_loss: 0.0111 - val_acc: 0.9600\n",
            "Epoch 31/100\n",
            "100/100 [==============================] - 18s 180ms/step - loss: 0.0912 - acc: 0.9715 - val_loss: 0.3814 - val_acc: 0.9650\n",
            "Epoch 32/100\n",
            "100/100 [==============================] - 18s 181ms/step - loss: 0.0756 - acc: 0.9745 - val_loss: 0.2553 - val_acc: 0.9380\n",
            "Epoch 33/100\n",
            "100/100 [==============================] - 18s 180ms/step - loss: 0.0784 - acc: 0.9710 - val_loss: 0.0875 - val_acc: 0.9580\n",
            "Epoch 34/100\n",
            "100/100 [==============================] - 18s 182ms/step - loss: 0.0643 - acc: 0.9775 - val_loss: 0.0348 - val_acc: 0.9620\n",
            "Epoch 35/100\n",
            "100/100 [==============================] - 18s 182ms/step - loss: 0.0762 - acc: 0.9745 - val_loss: 0.1691 - val_acc: 0.9490\n",
            "Epoch 36/100\n",
            "100/100 [==============================] - 18s 179ms/step - loss: 0.0634 - acc: 0.9790 - val_loss: 0.2554 - val_acc: 0.9590\n",
            "Epoch 37/100\n",
            "100/100 [==============================] - 18s 181ms/step - loss: 0.0653 - acc: 0.9745 - val_loss: 0.0184 - val_acc: 0.9630\n",
            "Epoch 38/100\n",
            "100/100 [==============================] - 18s 179ms/step - loss: 0.0680 - acc: 0.9695 - val_loss: 0.0083 - val_acc: 0.9510\n",
            "Epoch 39/100\n",
            "100/100 [==============================] - 18s 179ms/step - loss: 0.0639 - acc: 0.9760 - val_loss: 0.0764 - val_acc: 0.9310\n",
            "Epoch 40/100\n",
            "100/100 [==============================] - 18s 180ms/step - loss: 0.0842 - acc: 0.9735 - val_loss: 0.5682 - val_acc: 0.9520\n",
            "Epoch 41/100\n",
            "100/100 [==============================] - 18s 180ms/step - loss: 0.0560 - acc: 0.9790 - val_loss: 0.1102 - val_acc: 0.9530\n",
            "Epoch 42/100\n",
            "100/100 [==============================] - 18s 180ms/step - loss: 0.0652 - acc: 0.9735 - val_loss: 0.1315 - val_acc: 0.9520\n",
            "Epoch 43/100\n",
            "100/100 [==============================] - 18s 178ms/step - loss: 0.0602 - acc: 0.9780 - val_loss: 0.0475 - val_acc: 0.9520\n",
            "Epoch 44/100\n",
            "100/100 [==============================] - 18s 181ms/step - loss: 0.0783 - acc: 0.9720 - val_loss: 0.4213 - val_acc: 0.9550\n",
            "Epoch 45/100\n",
            "100/100 [==============================] - 18s 182ms/step - loss: 0.0579 - acc: 0.9795 - val_loss: 0.0401 - val_acc: 0.9530\n",
            "Epoch 46/100\n",
            "100/100 [==============================] - 18s 179ms/step - loss: 0.0504 - acc: 0.9805 - val_loss: 3.1923e-04 - val_acc: 0.9600\n",
            "Epoch 47/100\n",
            "100/100 [==============================] - 18s 179ms/step - loss: 0.0554 - acc: 0.9775 - val_loss: 0.2794 - val_acc: 0.9310\n",
            "Epoch 48/100\n",
            "100/100 [==============================] - 18s 180ms/step - loss: 0.0704 - acc: 0.9800 - val_loss: 0.2682 - val_acc: 0.9570\n",
            "Epoch 49/100\n",
            "100/100 [==============================] - 18s 181ms/step - loss: 0.0828 - acc: 0.9710 - val_loss: 0.0107 - val_acc: 0.9600\n",
            "Epoch 50/100\n",
            "100/100 [==============================] - 18s 179ms/step - loss: 0.0613 - acc: 0.9785 - val_loss: 0.0022 - val_acc: 0.9590\n",
            "Epoch 51/100\n",
            "100/100 [==============================] - 18s 181ms/step - loss: 0.0682 - acc: 0.9760 - val_loss: 0.0030 - val_acc: 0.9570\n",
            "Epoch 52/100\n",
            "100/100 [==============================] - 18s 180ms/step - loss: 0.0495 - acc: 0.9830 - val_loss: 0.0201 - val_acc: 0.9530\n",
            "Epoch 53/100\n",
            "100/100 [==============================] - 18s 180ms/step - loss: 0.0595 - acc: 0.9780 - val_loss: 0.0036 - val_acc: 0.9610\n",
            "Epoch 54/100\n",
            "100/100 [==============================] - 18s 180ms/step - loss: 0.0566 - acc: 0.9780 - val_loss: 0.2555 - val_acc: 0.9540\n",
            "Epoch 55/100\n",
            "100/100 [==============================] - 18s 179ms/step - loss: 0.0656 - acc: 0.9780 - val_loss: 0.0058 - val_acc: 0.9620\n",
            "Epoch 56/100\n",
            "100/100 [==============================] - 18s 180ms/step - loss: 0.0666 - acc: 0.9745 - val_loss: 0.2901 - val_acc: 0.9580\n",
            "Epoch 57/100\n",
            "100/100 [==============================] - 18s 180ms/step - loss: 0.0698 - acc: 0.9735 - val_loss: 0.0192 - val_acc: 0.9620\n",
            "Epoch 58/100\n",
            "100/100 [==============================] - 18s 181ms/step - loss: 0.0486 - acc: 0.9815 - val_loss: 0.0016 - val_acc: 0.9610\n",
            "Epoch 59/100\n",
            "100/100 [==============================] - 18s 179ms/step - loss: 0.0638 - acc: 0.9805 - val_loss: 0.0545 - val_acc: 0.9590\n",
            "Epoch 60/100\n",
            "100/100 [==============================] - 18s 179ms/step - loss: 0.0581 - acc: 0.9770 - val_loss: 0.0623 - val_acc: 0.9540\n",
            "Epoch 61/100\n",
            "100/100 [==============================] - 18s 183ms/step - loss: 0.0400 - acc: 0.9840 - val_loss: 0.0023 - val_acc: 0.9560\n",
            "Epoch 62/100\n",
            "100/100 [==============================] - 18s 182ms/step - loss: 0.0641 - acc: 0.9760 - val_loss: 0.4553 - val_acc: 0.9580\n",
            "Epoch 63/100\n",
            "100/100 [==============================] - 18s 182ms/step - loss: 0.0573 - acc: 0.9800 - val_loss: 0.2737 - val_acc: 0.9550\n",
            "Epoch 64/100\n",
            "100/100 [==============================] - 18s 178ms/step - loss: 0.0773 - acc: 0.9730 - val_loss: 0.0059 - val_acc: 0.9580\n",
            "Epoch 65/100\n",
            "100/100 [==============================] - 18s 179ms/step - loss: 0.0513 - acc: 0.9835 - val_loss: 0.0051 - val_acc: 0.9580\n",
            "Epoch 66/100\n",
            "100/100 [==============================] - 18s 177ms/step - loss: 0.0626 - acc: 0.9810 - val_loss: 0.0650 - val_acc: 0.9570\n",
            "Epoch 67/100\n",
            "100/100 [==============================] - 18s 180ms/step - loss: 0.0733 - acc: 0.9755 - val_loss: 0.1688 - val_acc: 0.9560\n",
            "Epoch 68/100\n",
            "100/100 [==============================] - 19s 186ms/step - loss: 0.0505 - acc: 0.9790 - val_loss: 0.6171 - val_acc: 0.9570\n",
            "Epoch 69/100\n",
            "100/100 [==============================] - 18s 185ms/step - loss: 0.0664 - acc: 0.9755 - val_loss: 0.0337 - val_acc: 0.9620\n",
            "Epoch 70/100\n",
            "100/100 [==============================] - 19s 186ms/step - loss: 0.0566 - acc: 0.9785 - val_loss: 0.1932 - val_acc: 0.9610\n",
            "Epoch 71/100\n",
            "100/100 [==============================] - 18s 183ms/step - loss: 0.0455 - acc: 0.9860 - val_loss: 0.2299 - val_acc: 0.9630\n",
            "Epoch 72/100\n",
            "100/100 [==============================] - 18s 179ms/step - loss: 0.0402 - acc: 0.9840 - val_loss: 0.0274 - val_acc: 0.9610\n",
            "Epoch 73/100\n",
            "100/100 [==============================] - 18s 176ms/step - loss: 0.0521 - acc: 0.9845 - val_loss: 0.0022 - val_acc: 0.9610\n",
            "Epoch 74/100\n",
            "100/100 [==============================] - 18s 178ms/step - loss: 0.0760 - acc: 0.9785 - val_loss: 4.6638e-05 - val_acc: 0.9600\n",
            "Epoch 75/100\n",
            "100/100 [==============================] - 18s 180ms/step - loss: 0.0564 - acc: 0.9820 - val_loss: 0.4576 - val_acc: 0.9640\n",
            "Epoch 76/100\n",
            "100/100 [==============================] - 18s 178ms/step - loss: 0.0687 - acc: 0.9755 - val_loss: 0.7413 - val_acc: 0.9610\n",
            "Epoch 77/100\n",
            "100/100 [==============================] - 18s 179ms/step - loss: 0.0557 - acc: 0.9780 - val_loss: 0.0303 - val_acc: 0.9610\n",
            "Epoch 78/100\n",
            "100/100 [==============================] - 18s 178ms/step - loss: 0.0496 - acc: 0.9830 - val_loss: 0.1005 - val_acc: 0.9600\n",
            "Epoch 79/100\n",
            "100/100 [==============================] - 18s 178ms/step - loss: 0.0486 - acc: 0.9825 - val_loss: 0.0033 - val_acc: 0.9610\n",
            "Epoch 80/100\n",
            "100/100 [==============================] - 18s 182ms/step - loss: 0.0770 - acc: 0.9770 - val_loss: 0.0452 - val_acc: 0.9630\n",
            "Epoch 81/100\n",
            "100/100 [==============================] - 18s 180ms/step - loss: 0.0547 - acc: 0.9830 - val_loss: 0.7459 - val_acc: 0.9600\n",
            "Epoch 82/100\n",
            "100/100 [==============================] - 18s 179ms/step - loss: 0.0478 - acc: 0.9795 - val_loss: 0.5250 - val_acc: 0.9600\n",
            "Epoch 83/100\n",
            "100/100 [==============================] - 18s 178ms/step - loss: 0.0574 - acc: 0.9805 - val_loss: 0.6757 - val_acc: 0.9590\n",
            "Epoch 84/100\n",
            "100/100 [==============================] - 18s 181ms/step - loss: 0.0456 - acc: 0.9835 - val_loss: 0.0705 - val_acc: 0.9470\n",
            "Epoch 85/100\n",
            "100/100 [==============================] - 18s 182ms/step - loss: 0.0424 - acc: 0.9850 - val_loss: 0.0051 - val_acc: 0.9660\n",
            "Epoch 86/100\n",
            "100/100 [==============================] - 18s 179ms/step - loss: 0.0619 - acc: 0.9810 - val_loss: 0.1578 - val_acc: 0.9590\n",
            "Epoch 87/100\n",
            "100/100 [==============================] - 18s 181ms/step - loss: 0.0478 - acc: 0.9850 - val_loss: 0.0131 - val_acc: 0.9620\n",
            "Epoch 88/100\n",
            "100/100 [==============================] - 18s 185ms/step - loss: 0.0615 - acc: 0.9790 - val_loss: 0.1104 - val_acc: 0.9610\n",
            "Epoch 89/100\n",
            "100/100 [==============================] - 18s 183ms/step - loss: 0.0563 - acc: 0.9785 - val_loss: 0.2967 - val_acc: 0.9620\n",
            "Epoch 90/100\n",
            "100/100 [==============================] - 18s 180ms/step - loss: 0.0472 - acc: 0.9860 - val_loss: 0.0072 - val_acc: 0.9610\n",
            "Epoch 91/100\n",
            "100/100 [==============================] - 18s 182ms/step - loss: 0.0451 - acc: 0.9840 - val_loss: 0.0356 - val_acc: 0.9590\n",
            "Epoch 92/100\n",
            "100/100 [==============================] - 18s 178ms/step - loss: 0.0420 - acc: 0.9855 - val_loss: 0.1144 - val_acc: 0.9550\n",
            "Epoch 93/100\n",
            "100/100 [==============================] - 18s 183ms/step - loss: 0.0642 - acc: 0.9795 - val_loss: 0.0252 - val_acc: 0.9590\n",
            "Epoch 94/100\n",
            "100/100 [==============================] - 18s 178ms/step - loss: 0.0489 - acc: 0.9795 - val_loss: 0.2588 - val_acc: 0.9600\n",
            "Epoch 95/100\n",
            "100/100 [==============================] - 18s 181ms/step - loss: 0.0450 - acc: 0.9860 - val_loss: 0.1304 - val_acc: 0.9600\n",
            "Epoch 96/100\n",
            "100/100 [==============================] - 18s 181ms/step - loss: 0.0453 - acc: 0.9810 - val_loss: 0.0669 - val_acc: 0.9600\n",
            "Epoch 97/100\n",
            "100/100 [==============================] - 18s 184ms/step - loss: 0.0456 - acc: 0.9815 - val_loss: 0.1741 - val_acc: 0.9590\n",
            "Epoch 98/100\n",
            "100/100 [==============================] - 18s 182ms/step - loss: 0.0488 - acc: 0.9845 - val_loss: 0.1231 - val_acc: 0.9630\n",
            "Epoch 99/100\n",
            "100/100 [==============================] - 18s 179ms/step - loss: 0.0390 - acc: 0.9845 - val_loss: 7.9255e-05 - val_acc: 0.9510\n",
            "Epoch 100/100\n",
            "100/100 [==============================] - 18s 181ms/step - loss: 0.0535 - acc: 0.9835 - val_loss: 0.4781 - val_acc: 0.9590\n"
          ],
          "name": "stdout"
        }
      ]
    },
    {
      "cell_type": "markdown",
      "metadata": {
        "id": "eVBQgh5M-Rtz",
        "colab_type": "text"
      },
      "source": [
        "## Display learning curves during fine-tuning"
      ]
    },
    {
      "cell_type": "code",
      "metadata": {
        "id": "mbkIw7Ie-NP4",
        "colab_type": "code",
        "outputId": "1b735929-3ccf-40b5-b697-30f899329931",
        "colab": {
          "base_uri": "https://localhost:8080/",
          "height": 545
        }
      },
      "source": [
        "%matplotlib inline\n",
        "\n",
        "import matplotlib.pyplot as plt\n",
        "\n",
        "acc = history.history['acc']\n",
        "val_acc = history.history['val_acc']\n",
        "\n",
        "loss = history.history['loss']\n",
        "val_loss = history.history['val_loss']\n",
        "\n",
        "epochs = range(1, len(acc) + 1)\n",
        "\n",
        "# training and validation accuracy\n",
        "\n",
        "plt.plot(epochs, acc, 'bo', label='training acc')\n",
        "plt.plot(epochs, val_acc, 'b', label='validation acc')\n",
        "plt.title('training and validation accuracy')\n",
        "plt.legend()\n",
        "\n",
        "plt.figure()\n",
        "\n",
        "# training and validation loss\n",
        "\n",
        "plt.plot(epochs, loss, 'bo', label='training loss')\n",
        "plt.plot(epochs, val_loss, 'b', label='validation loss')\n",
        "plt.title('training and validation loss')\n",
        "plt.legend()\n",
        "\n",
        "plt.show()"
      ],
      "execution_count": 0,
      "outputs": [
        {
          "output_type": "display_data",
          "data": {
            "image/png": "[encoded data removed]",
            "text/plain": [
              "<Figure size 432x288 with 1 Axes>"
            ]
          },
          "metadata": {
            "tags": [],
            "needs_background": "light"
          }
        },
        {
          "output_type": "display_data",
          "data": {
            "image/png": "[encoded data removed]",
            "text/plain": [
              "<Figure size 432x288 with 1 Axes>"
            ]
          },
          "metadata": {
            "tags": [],
            "needs_background": "light"
          }
        }
      ]
    },
    {
      "cell_type": "markdown",
      "metadata": {
        "id": "he3Nw6TOJwjx",
        "colab_type": "text"
      },
      "source": [
        "## Print out validation loss and accuracy"
      ]
    },
    {
      "cell_type": "code",
      "metadata": {
        "id": "SVQtrk7uJdhl",
        "colab_type": "code",
        "colab": {}
      },
      "source": [
        "val_loss, val_acc = model.evaluate_generator(validation_generator, steps=50)"
      ],
      "execution_count": 0,
      "outputs": []
    },
    {
      "cell_type": "code",
      "metadata": {
        "id": "HpdddLi1SUMe",
        "colab_type": "code",
        "outputId": "89de277c-272f-43e9-e7fe-c15457d212c3",
        "colab": {
          "base_uri": "https://localhost:8080/",
          "height": 51
        }
      },
      "source": [
        "print(\"Validation loss:\", val_loss)\n",
        "print(\"Validation accuracy:\", val_acc)"
      ],
      "execution_count": 0,
      "outputs": [
        {
          "output_type": "stream",
          "text": [
            "Validation loss: 0.048512041568756104\n",
            "Validation accuracy: 0.9589999914169312\n"
          ],
          "name": "stdout"
        }
      ]
    },
    {
      "cell_type": "markdown",
      "metadata": {
        "id": "7Ww756WToby8",
        "colab_type": "text"
      },
      "source": [
        "## Save the model"
      ]
    },
    {
      "cell_type": "code",
      "metadata": {
        "id": "0lTUpUdwobKW",
        "colab_type": "code",
        "colab": {}
      },
      "source": [
        "model_fname = 'cats_and_dogs_small_4.h5' \n",
        "model.save(model_fname)"
      ],
      "execution_count": 0,
      "outputs": []
    },
    {
      "cell_type": "code",
      "metadata": {
        "id": "YhEoI8ZTok-X",
        "colab_type": "code",
        "outputId": "faa27716-5784-492a-a820-efa54882b30b",
        "colab": {
          "base_uri": "https://localhost:8080/",
          "height": 448
        }
      },
      "source": [
        "from google.colab import files\n",
        "\n",
        "with open(model_fname, 'r') as f:\n",
        "  files.download(model_fname)"
      ],
      "execution_count": 0,
      "outputs": [
        {
          "output_type": "stream",
          "text": [
            "----------------------------------------\n",
            "Exception happened during processing of request from ('::ffff:127.0.0.1', 36978, 0, 0)\n",
            "Traceback (most recent call last):\n",
            "  File \"/usr/lib/python3.6/socketserver.py\", line 320, in _handle_request_noblock\n",
            "    self.process_request(request, client_address)\n",
            "  File \"/usr/lib/python3.6/socketserver.py\", line 351, in process_request\n",
            "    self.finish_request(request, client_address)\n",
            "  File \"/usr/lib/python3.6/socketserver.py\", line 364, in finish_request\n",
            "    self.RequestHandlerClass(request, client_address, self)\n",
            "  File \"/usr/lib/python3.6/socketserver.py\", line 724, in __init__\n",
            "    self.handle()\n",
            "  File \"/usr/lib/python3.6/http/server.py\", line 418, in handle\n",
            "    self.handle_one_request()\n",
            "  File \"/usr/lib/python3.6/http/server.py\", line 406, in handle_one_request\n",
            "    method()\n",
            "  File \"/usr/lib/python3.6/http/server.py\", line 639, in do_GET\n",
            "    self.copyfile(f, self.wfile)\n",
            "  File \"/usr/lib/python3.6/http/server.py\", line 800, in copyfile\n",
            "    shutil.copyfileobj(source, outputfile)\n",
            "  File \"/usr/lib/python3.6/shutil.py\", line 82, in copyfileobj\n",
            "    fdst.write(buf)\n",
            "  File \"/usr/lib/python3.6/socketserver.py\", line 803, in write\n",
            "    self._sock.sendall(b)\n",
            "ConnectionResetError: [Errno 104] Connection reset by peer\n",
            "----------------------------------------\n"
          ],
          "name": "stderr"
        }
      ]
    },
    {
      "cell_type": "code",
      "metadata": {
        "id": "VNEL4CCcS0Oj",
        "colab_type": "code",
        "colab": {}
      },
      "source": [
        ""
      ],
      "execution_count": 0,
      "outputs": []
    },
    {
      "cell_type": "code",
      "metadata": {
        "id": "hfa9ABE19MXO",
        "colab_type": "code",
        "colab": {}
      },
      "source": [
        ""
      ],
      "execution_count": 0,
      "outputs": []
    }
  ]
}