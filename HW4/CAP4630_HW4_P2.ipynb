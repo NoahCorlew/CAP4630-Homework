{
  "nbformat": 4,
  "nbformat_minor": 0,
  "metadata": {
    "colab": {
      "name": "Copy of CAP4630_HW4_P2",
      "provenance": [],
      "collapsed_sections": [],
      "authorship_tag": "ABX9TyO4KsEiiIpDfuRnXPLpKy7o",
      "include_colab_link": true
    },
    "kernelspec": {
      "name": "python3",
      "display_name": "Python 3"
    }
  },
  "cells": [
    {
      "cell_type": "markdown",
      "metadata": {
        "id": "view-in-github",
        "colab_type": "text"
      },
      "source": [
        "<a href=\"https://colab.research.google.com/github/NoahCorlew/CAP4630-Homework/blob/master/HW4/CAP4630_HW4_P2.ipynb\" target=\"_parent\"><img src=\"https://colab.research.google.com/assets/colab-badge.svg\" alt=\"Open In Colab\"/></a>"
      ]
    },
    {
      "cell_type": "code",
      "metadata": {
        "id": "K-NyNEomrs0E",
        "colab_type": "code",
        "colab": {}
      },
      "source": [
        " class Error(Exception):\n",
        "  pass\n",
        "\n",
        "class SSize(Error):\n",
        "  pass"
      ],
      "execution_count": 0,
      "outputs": []
    },
    {
      "cell_type": "code",
      "metadata": {
        "id": "lZr0Qct_g-2l",
        "colab_type": "code",
        "outputId": "2f48e49f-8e1c-47c3-d72b-e83959c99af5",
        "colab": {
          "base_uri": "https://localhost:8080/",
          "height": 51
        }
      },
      "source": [
        "def maxpooling2d(input_mat, s):  \n",
        "  # Raising custom exception\n",
        "  if (input_mat.shape[0] % s != 0):\n",
        "    raise SSize(\"S not valid for input matrix\")\n",
        "\n",
        "  # Calculating the suze of output_mat and creating it\n",
        "  outputSize = int(input_mat.shape[0] / s )\n",
        "  output_mat = numpy.zeros(shape =(outputSize, outputSize))\n",
        "\n",
        "  # Getting the submatrices and finding the max value of each\n",
        "  for i in range(0, outputSize):\n",
        "    for j in range(0, outputSize):\n",
        "      output_mat[i,j] = matrixMax(input_mat[0 + (i * 2):2+ (i * 2), 0+ (j * 2):2+ (j * 2)])\n",
        "\n",
        "  return output_mat.astype(int)\n",
        "\n",
        "# Helper function to find the max value in a matrix\n",
        "def matrixMax(matrix):\n",
        "  sub = []\n",
        "  for i in range(0, matrix.shape[0]):\n",
        "    for j in range(0, matrix.shape[0]):\n",
        "      sub.append(matrix[i,j])\n",
        "  \n",
        "  return(max(sub))\n",
        "\n",
        "input_mat = numpy.matrix([[1, 4, 5, 12], \n",
        "                          [-5, 8, 9, 0],\n",
        "                          [3, 2, -6, 3],\n",
        "                          [-6, 7, 11, 19]])\n",
        "\n",
        "maxpooling2d(input_mat, 2)\n",
        "\n"
      ],
      "execution_count": 0,
      "outputs": [
        {
          "output_type": "execute_result",
          "data": {
            "text/plain": [
              "array([[ 8, 12],\n",
              "       [ 7, 19]])"
            ]
          },
          "metadata": {
            "tags": []
          },
          "execution_count": 216
        }
      ]
    }
  ]
}