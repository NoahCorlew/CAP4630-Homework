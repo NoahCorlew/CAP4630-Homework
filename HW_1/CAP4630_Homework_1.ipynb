{
  "nbformat": 4,
  "nbformat_minor": 0,
  "metadata": {
    "colab": {
      "name": "CAP4630 Homework 1",
      "provenance": [],
      "collapsed_sections": [],
      "authorship_tag": "ABX9TyPAA2Jk0QlvziyG8QL8BypB",
      "include_colab_link": true
    },
    "kernelspec": {
      "name": "python3",
      "display_name": "Python 3"
    }
  },
  "cells": [
    {
      "cell_type": "markdown",
      "metadata": {
        "id": "view-in-github",
        "colab_type": "text"
      },
      "source": [
        "<a href=\"https://colab.research.google.com/github/NoahCorlew/CAP4630-Homework/blob/master/HW_1/CAP4630_Homework_1.ipynb\" target=\"_parent\"><img src=\"https://colab.research.google.com/assets/colab-badge.svg\" alt=\"Open In Colab\"/></a>"
      ]
    },
    {
      "cell_type": "code",
      "metadata": {
        "id": "uw06UmyVFNYN",
        "colab_type": "code",
        "colab": {}
      },
      "source": [
        "import numpy\n",
        "\n",
        "class WrongArrayLength(Error):\n",
        "  pass\n",
        "\n",
        "def multiply_matrices (numpyMatrix):\n",
        "  size = numpy.shape(numpyMatrix)\n",
        "\n",
        "  # num: Number of arrays in matrix\n",
        "  num = (size[0])\n",
        "\n",
        "  # defaultSize: Default size of arrays in matrix\n",
        "  defaultSize = numpy.shape(numpyMatrix[0])[0]\n",
        "\n",
        "  # Finds any rows with bad size\n",
        "  for i in range(num):\n",
        "    if numpy.shape(numpyMatrix[i])[0] != defaultSize:\n",
        "      raise WrongArrayLength(\"Error: array in row \", i + 1, \" is wrong size and incompatible with row 1, which has a size of\", defaultSize)\n",
        "  \n",
        "  # finalArray\n",
        "  finalArray = []\n",
        "  for n in range(defaultSize):\n",
        "    finalArray.append(1)\n",
        "\n",
        "  for k in range(num):\n",
        "    for j in range(defaultSize):\n",
        "      finalArray[j] = numpyMatrix[k][j] * finalArray[j]\n",
        "  \n",
        "  print (finalArray)"
      ],
      "execution_count": 0,
      "outputs": []
    },
    {
      "cell_type": "markdown",
      "metadata": {
        "id": "kJRUXdNQIMof",
        "colab_type": "text"
      },
      "source": [
        "The product of arrays can be found if the matrix is not a jagged matrix\n",
        "$$\\begin{bmatrix}\n",
        "    a  &  b & c  &  d \\\\ e & f \\\\ g & h & i & k & j\n",
        "\\end{bmatrix}\n",
        "$$\n",
        "\n",
        "For example does not work, but \n",
        "$$\\begin{bmatrix}\n",
        "    a  &  b & c  &  d \\\\ e & f & g & h \\\\ i & k & j & k\n",
        "\\end{bmatrix}\n",
        "$$\n",
        "\n",
        "does"
      ]
    },
    {
      "cell_type": "markdown",
      "metadata": {
        "id": "R3Xw284OIQ3o",
        "colab_type": "text"
      },
      "source": [
        ""
      ]
    }
  ]
}