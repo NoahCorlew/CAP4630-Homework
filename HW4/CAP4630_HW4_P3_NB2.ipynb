{
  "nbformat": 4,
  "nbformat_minor": 0,
  "metadata": {
    "colab": {
      "name": "CAP4630_HW4_P3_NB2",
      "provenance": [],
      "collapsed_sections": [],
      "include_colab_link": true
    },
    "kernelspec": {
      "name": "python3",
      "display_name": "Python 3"
    },
    "accelerator": "GPU"
  },
  "cells": [
    {
      "cell_type": "markdown",
      "metadata": {
        "id": "view-in-github",
        "colab_type": "text"
      },
      "source": [
        "<a href=\"https://colab.research.google.com/github/NoahCorlew/CAP4630-Homework/blob/master/HW4/CAP4630_HW4_P3_NB2.ipynb\" target=\"_parent\"><img src=\"https://colab.research.google.com/assets/colab-badge.svg\" alt=\"Open In Colab\"/></a>"
      ]
    },
    {
      "cell_type": "markdown",
      "metadata": {
        "id": "KSrgMJ5vKFzQ",
        "colab_type": "text"
      },
      "source": [
        "# ResNet50"
      ]
    },
    {
      "cell_type": "markdown",
      "metadata": {
        "id": "BqIG8QHMLNOn",
        "colab_type": "text"
      },
      "source": [
        "## Download the data"
      ]
    },
    {
      "cell_type": "markdown",
      "metadata": {
        "id": "t3I1jd7cKV6_",
        "colab_type": "text"
      },
      "source": [
        "Download the example data, a zip. of 2,000 JPG pictures of cats and dogs and extract it locally in ```/tmp```.\n",
        "\n"
      ]
    },
    {
      "cell_type": "code",
      "metadata": {
        "id": "JWjprHEXJ5Qi",
        "colab_type": "code",
        "outputId": "92056d67-debf-4b83-a647-38198939c1e2",
        "colab": {
          "base_uri": "https://localhost:8080/",
          "height": 206
        }
      },
      "source": [
        "!wget --no-check-certificate \\\n",
        "    https://storage.googleapis.com/mledu-datasets/cats_and_dogs_filtered.zip \\\n",
        "    -O /tmp/cats_and_dogs_filtered.zip"
      ],
      "execution_count": 1,
      "outputs": [
        {
          "output_type": "stream",
          "text": [
            "--2020-04-21 19:08:42--  https://storage.googleapis.com/mledu-datasets/cats_and_dogs_filtered.zip\n",
            "Resolving storage.googleapis.com (storage.googleapis.com)... 172.217.14.80, 2607:f8b0:4007:803::2010\n",
            "Connecting to storage.googleapis.com (storage.googleapis.com)|172.217.14.80|:443... connected.\n",
            "HTTP request sent, awaiting response... 200 OK\n",
            "Length: 68606236 (65M) [application/zip]\n",
            "Saving to: ‘/tmp/cats_and_dogs_filtered.zip’\n",
            "\n",
            "/tmp/cats_and_dogs_ 100%[===================>]  65.43M   131MB/s    in 0.5s    \n",
            "\n",
            "2020-04-21 19:08:43 (131 MB/s) - ‘/tmp/cats_and_dogs_filtered.zip’ saved [68606236/68606236]\n",
            "\n"
          ],
          "name": "stdout"
        }
      ]
    },
    {
      "cell_type": "code",
      "metadata": {
        "id": "WvoHtdA-K6Rw",
        "colab_type": "code",
        "colab": {}
      },
      "source": [
        "import os\n",
        "import zipfile\n",
        "\n",
        "local_zip = '/tmp/cats_and_dogs_filtered.zip'\n",
        "zip_ref = zipfile.ZipFile(local_zip, 'r')\n",
        "zip_ref.extractall('/tmp')\n",
        "zip_ref.close()"
      ],
      "execution_count": 0,
      "outputs": []
    },
    {
      "cell_type": "markdown",
      "metadata": {
        "id": "shZiOBnJMyy_",
        "colab_type": "text"
      },
      "source": [
        "Note that the data provided by Google does not have a test set."
      ]
    },
    {
      "cell_type": "code",
      "metadata": {
        "id": "dL8ikM89LlsH",
        "colab_type": "code",
        "colab": {}
      },
      "source": [
        "base_dir = '/tmp/cats_and_dogs_filtered'\n",
        "train_dir = os.path.join(base_dir, 'train')\n",
        "validation_dir = os.path.join(base_dir, 'validation')\n",
        "\n",
        "# Directory with our training cat pictures\n",
        "train_cats_dir = os.path.join(train_dir, 'cats')\n",
        "\n",
        "# Directory with our training dog pictures\n",
        "train_dogs_dir = os.path.join(train_dir, 'dogs')\n",
        "\n",
        "# Directory with our validation cat pictures\n",
        "validation_cats_dir = os.path.join(validation_dir, 'cats')\n",
        "\n",
        "# Directory with our validation dog pictures\n",
        "validation_dogs_dir = os.path.join(validation_dir, 'dogs')"
      ],
      "execution_count": 0,
      "outputs": []
    },
    {
      "cell_type": "markdown",
      "metadata": {
        "id": "inyP8bcdXnn-",
        "colab_type": "text"
      },
      "source": [
        "## Build network with InceptionV3 convolution base and custom densely connected layers"
      ]
    },
    {
      "cell_type": "markdown",
      "metadata": {
        "id": "kQ48W5T9rHWu",
        "colab_type": "text"
      },
      "source": [
        "### Load the convolutional base"
      ]
    },
    {
      "cell_type": "code",
      "metadata": {
        "id": "Y0FgtANCXm_H",
        "colab_type": "code",
        "outputId": "fb242dc7-2398-46d1-a371-147c52937b2c",
        "colab": {
          "base_uri": "https://localhost:8080/",
          "height": 103
        }
      },
      "source": [
        "from keras.applications.resnet50 import ResNet50\n",
        "\n",
        "conv_base = ResNet50(\n",
        "    weights='imagenet', \n",
        "    include_top=False, \n",
        "    input_shape=(150, 150, 3))"
      ],
      "execution_count": 4,
      "outputs": [
        {
          "output_type": "stream",
          "text": [
            "Using TensorFlow backend.\n",
            "/usr/local/lib/python3.6/dist-packages/keras_applications/resnet50.py:265: UserWarning: The output shape of `ResNet50(include_top=False)` has been changed since Keras 2.2.0.\n",
            "  warnings.warn('The output shape of `ResNet50(include_top=False)` '\n"
          ],
          "name": "stderr"
        },
        {
          "output_type": "stream",
          "text": [
            "Downloading data from https://github.com/fchollet/deep-learning-models/releases/download/v0.2/resnet50_weights_tf_dim_ordering_tf_kernels_notop.h5\n",
            "94658560/94653016 [==============================] - 2s 0us/step\n"
          ],
          "name": "stdout"
        }
      ]
    },
    {
      "cell_type": "markdown",
      "metadata": {
        "id": "D6OBHOO9q1ou",
        "colab_type": "text"
      },
      "source": [
        "### Freeze the convolutional base"
      ]
    },
    {
      "cell_type": "code",
      "metadata": {
        "id": "UleRo4Dpq6Ld",
        "colab_type": "code",
        "colab": {}
      },
      "source": [
        "conv_base.trainable = False"
      ],
      "execution_count": 0,
      "outputs": []
    },
    {
      "cell_type": "markdown",
      "metadata": {
        "id": "Qfx6PqhPrb7Q",
        "colab_type": "text"
      },
      "source": [
        "### Concatenate the convolutional base and densely connected layers\n",
        "\n",
        "See that I have changed the dense layers from 256 to 300 and changed the activation to tanh"
      ]
    },
    {
      "cell_type": "code",
      "metadata": {
        "id": "qUpmocDAO3xm",
        "colab_type": "code",
        "colab": {}
      },
      "source": [
        "from keras import layers\n",
        "from keras import models\n",
        "from keras import optimizers\n",
        "\n",
        "model = models.Sequential()\n",
        "model.add(conv_base)\n",
        "model.add(layers.Flatten())\n",
        "model.add(layers.Dense(300, activation='tanh'))\n",
        "#model.add(layers.Dropout(0.1))\n",
        "model.add(layers.Dense(1, activation='sigmoid'))"
      ],
      "execution_count": 0,
      "outputs": []
    },
    {
      "cell_type": "code",
      "metadata": {
        "id": "Fh6gZSeAjF7c",
        "colab_type": "code",
        "outputId": "c842353a-5e6e-4a67-8a3b-2d3231e6c72b",
        "colab": {
          "base_uri": "https://localhost:8080/",
          "height": 293
        }
      },
      "source": [
        "model.summary()"
      ],
      "execution_count": 7,
      "outputs": [
        {
          "output_type": "stream",
          "text": [
            "Model: \"sequential_1\"\n",
            "_________________________________________________________________\n",
            "Layer (type)                 Output Shape              Param #   \n",
            "=================================================================\n",
            "resnet50 (Model)             (None, 5, 5, 2048)        23587712  \n",
            "_________________________________________________________________\n",
            "flatten_1 (Flatten)          (None, 51200)             0         \n",
            "_________________________________________________________________\n",
            "dense_1 (Dense)              (None, 300)               15360300  \n",
            "_________________________________________________________________\n",
            "dense_2 (Dense)              (None, 1)                 301       \n",
            "=================================================================\n",
            "Total params: 38,948,313\n",
            "Trainable params: 15,360,601\n",
            "Non-trainable params: 23,587,712\n",
            "_________________________________________________________________\n"
          ],
          "name": "stdout"
        }
      ]
    },
    {
      "cell_type": "markdown",
      "metadata": {
        "id": "eZjBiddhi5Qj",
        "colab_type": "text"
      },
      "source": [
        "## Train the model end to end with frozen convolutional base"
      ]
    },
    {
      "cell_type": "code",
      "metadata": {
        "id": "tfAQlC2Oi41L",
        "colab_type": "code",
        "outputId": "84256a16-d054-4667-9c5d-472899ff5d51",
        "colab": {
          "base_uri": "https://localhost:8080/",
          "height": 1000
        }
      },
      "source": [
        "from keras.preprocessing.image import ImageDataGenerator\n",
        "from keras import optimizers\n",
        "\n",
        "# data augmentation\n",
        "\n",
        "train_datagen = ImageDataGenerator(\n",
        "    rescale=1./255, \n",
        "    rotation_range=40,\n",
        "    width_shift_range=0.2,\n",
        "    height_shift_range=0.2,\n",
        "    shear_range=0.2,\n",
        "    zoom_range=0.2,\n",
        "    horizontal_flip=True,\n",
        "    fill_mode='nearest'\n",
        ")\n",
        "\n",
        "train_generator = train_datagen.flow_from_directory(\n",
        "    train_dir,\n",
        "    target_size=(150, 150),\n",
        "    batch_size=20,\n",
        "    class_mode='binary')\n",
        "\n",
        "validation_datagen = ImageDataGenerator(rescale=1./255)\n",
        "\n",
        "validation_generator = validation_datagen.flow_from_directory(\n",
        "    validation_dir,\n",
        "    target_size=(150, 150),\n",
        "    batch_size=20,\n",
        "    class_mode='binary')\n",
        "\n",
        "# compile model\n",
        "\n",
        "model.compile(\n",
        "    loss='binary_crossentropy', \n",
        "    optimizer=optimizers.RMSprop(lr=2e-5), \n",
        "    metrics=['acc'])\n",
        "\n",
        "# train\n",
        "\n",
        "history = model.fit_generator(\n",
        "    train_generator,\n",
        "    steps_per_epoch=100,\n",
        "    epochs=30,\n",
        "    validation_data=validation_generator,\n",
        "    validation_steps=50\n",
        ")"
      ],
      "execution_count": 8,
      "outputs": [
        {
          "output_type": "stream",
          "text": [
            "Found 2000 images belonging to 2 classes.\n",
            "Found 1000 images belonging to 2 classes.\n",
            "Epoch 1/30\n",
            "100/100 [==============================] - 32s 323ms/step - loss: 0.3720 - acc: 0.8265 - val_loss: 0.6893 - val_acc: 0.5000\n",
            "Epoch 2/30\n",
            "100/100 [==============================] - 21s 213ms/step - loss: 0.2299 - acc: 0.9025 - val_loss: 0.7978 - val_acc: 0.5000\n",
            "Epoch 3/30\n",
            "100/100 [==============================] - 21s 212ms/step - loss: 0.2422 - acc: 0.9015 - val_loss: 1.0994 - val_acc: 0.5000\n",
            "Epoch 4/30\n",
            "100/100 [==============================] - 21s 215ms/step - loss: 0.2279 - acc: 0.9025 - val_loss: 0.6391 - val_acc: 0.5000\n",
            "Epoch 5/30\n",
            "100/100 [==============================] - 21s 211ms/step - loss: 0.1858 - acc: 0.9225 - val_loss: 0.7059 - val_acc: 0.5000\n",
            "Epoch 6/30\n",
            "100/100 [==============================] - 21s 212ms/step - loss: 0.2002 - acc: 0.9240 - val_loss: 0.7449 - val_acc: 0.4970\n",
            "Epoch 7/30\n",
            "100/100 [==============================] - 21s 211ms/step - loss: 0.1976 - acc: 0.9175 - val_loss: 0.8185 - val_acc: 0.5000\n",
            "Epoch 8/30\n",
            "100/100 [==============================] - 21s 213ms/step - loss: 0.1854 - acc: 0.9245 - val_loss: 1.0327 - val_acc: 0.5000\n",
            "Epoch 9/30\n",
            "100/100 [==============================] - 21s 214ms/step - loss: 0.1782 - acc: 0.9205 - val_loss: 0.7962 - val_acc: 0.5000\n",
            "Epoch 10/30\n",
            "100/100 [==============================] - 21s 211ms/step - loss: 0.1500 - acc: 0.9405 - val_loss: 1.3107 - val_acc: 0.5000\n",
            "Epoch 11/30\n",
            "100/100 [==============================] - 21s 211ms/step - loss: 0.1734 - acc: 0.9315 - val_loss: 0.7850 - val_acc: 0.5000\n",
            "Epoch 12/30\n",
            "100/100 [==============================] - 21s 211ms/step - loss: 0.1762 - acc: 0.9305 - val_loss: 1.1749 - val_acc: 0.5000\n",
            "Epoch 13/30\n",
            "100/100 [==============================] - 21s 211ms/step - loss: 0.1550 - acc: 0.9380 - val_loss: 1.4723 - val_acc: 0.5000\n",
            "Epoch 14/30\n",
            "100/100 [==============================] - 21s 210ms/step - loss: 0.1593 - acc: 0.9380 - val_loss: 1.6111 - val_acc: 0.5000\n",
            "Epoch 15/30\n",
            "100/100 [==============================] - 21s 208ms/step - loss: 0.1837 - acc: 0.9270 - val_loss: 1.5075 - val_acc: 0.5000\n",
            "Epoch 16/30\n",
            "100/100 [==============================] - 21s 207ms/step - loss: 0.1478 - acc: 0.9400 - val_loss: 1.1707 - val_acc: 0.5000\n",
            "Epoch 17/30\n",
            "100/100 [==============================] - 21s 205ms/step - loss: 0.1541 - acc: 0.9430 - val_loss: 0.8560 - val_acc: 0.5000\n",
            "Epoch 18/30\n",
            "100/100 [==============================] - 21s 207ms/step - loss: 0.1419 - acc: 0.9475 - val_loss: 1.7386 - val_acc: 0.5000\n",
            "Epoch 19/30\n",
            "100/100 [==============================] - 21s 211ms/step - loss: 0.1332 - acc: 0.9490 - val_loss: 1.5536 - val_acc: 0.5000\n",
            "Epoch 20/30\n",
            "100/100 [==============================] - 21s 213ms/step - loss: 0.1745 - acc: 0.9345 - val_loss: 2.0952 - val_acc: 0.5000\n",
            "Epoch 21/30\n",
            "100/100 [==============================] - 21s 211ms/step - loss: 0.1385 - acc: 0.9510 - val_loss: 1.1596 - val_acc: 0.5000\n",
            "Epoch 22/30\n",
            "100/100 [==============================] - 21s 210ms/step - loss: 0.1236 - acc: 0.9495 - val_loss: 1.7137 - val_acc: 0.5000\n",
            "Epoch 23/30\n",
            "100/100 [==============================] - 21s 209ms/step - loss: 0.1230 - acc: 0.9565 - val_loss: 1.9830 - val_acc: 0.5000\n",
            "Epoch 24/30\n",
            "100/100 [==============================] - 21s 211ms/step - loss: 0.1367 - acc: 0.9470 - val_loss: 2.3010 - val_acc: 0.5000\n",
            "Epoch 25/30\n",
            "100/100 [==============================] - 21s 206ms/step - loss: 0.1293 - acc: 0.9440 - val_loss: 1.6913 - val_acc: 0.5000\n",
            "Epoch 26/30\n",
            "100/100 [==============================] - 21s 208ms/step - loss: 0.1274 - acc: 0.9475 - val_loss: 1.8698 - val_acc: 0.5000\n",
            "Epoch 27/30\n",
            "100/100 [==============================] - 21s 208ms/step - loss: 0.1427 - acc: 0.9400 - val_loss: 2.2013 - val_acc: 0.5000\n",
            "Epoch 28/30\n",
            "100/100 [==============================] - 21s 206ms/step - loss: 0.1279 - acc: 0.9525 - val_loss: 3.0665 - val_acc: 0.5000\n",
            "Epoch 29/30\n",
            "100/100 [==============================] - 21s 207ms/step - loss: 0.1137 - acc: 0.9555 - val_loss: 2.3218 - val_acc: 0.5000\n",
            "Epoch 30/30\n",
            "100/100 [==============================] - 21s 207ms/step - loss: 0.1123 - acc: 0.9540 - val_loss: 3.0773 - val_acc: 0.5000\n"
          ],
          "name": "stdout"
        }
      ]
    },
    {
      "cell_type": "markdown",
      "metadata": {
        "id": "xqRc_vHKc92U",
        "colab_type": "text"
      },
      "source": [
        "## Display curves of loss and accuracy during training"
      ]
    },
    {
      "cell_type": "code",
      "metadata": {
        "id": "ybWwdzz9bwuQ",
        "colab_type": "code",
        "colab": {
          "base_uri": "https://localhost:8080/",
          "height": 545
        },
        "outputId": "f656fe7d-972c-44a3-e815-7e36105e3a4d"
      },
      "source": [
        "%matplotlib inline\n",
        "\n",
        "import matplotlib.pyplot as plt\n",
        "\n",
        "acc = history.history['acc']\n",
        "val_acc = history.history['val_acc']\n",
        "\n",
        "loss = history.history['loss']\n",
        "val_loss = history.history['val_loss']\n",
        "\n",
        "epochs = range(1, len(acc) + 1)\n",
        "\n",
        "# training and validation accuracy\n",
        "\n",
        "plt.plot(epochs, acc, 'bo', label='training acc')\n",
        "plt.plot(epochs, val_acc, 'b', label='validation acc')\n",
        "plt.title('training and validation accuracy')\n",
        "plt.legend()\n",
        "\n",
        "plt.figure()\n",
        "\n",
        "# training and validation loss\n",
        "\n",
        "plt.plot(epochs, loss, 'bo', label='training loss')\n",
        "plt.plot(epochs, val_loss, 'b', label='validation loss')\n",
        "plt.title('training and validation loss')\n",
        "plt.legend()\n",
        "\n",
        "plt.show()"
      ],
      "execution_count": 9,
      "outputs": [
        {
          "output_type": "display_data",
          "data": {
            "image/png": "[encoded data removed]",
            "text/plain": [
              "<Figure size 432x288 with 1 Axes>"
            ]
          },
          "metadata": {
            "tags": [],
            "needs_background": "light"
          }
        },
        {
          "output_type": "display_data",
          "data": {
            "image/png": "[encoded data removed]",
            "text/plain": [
              "<Figure size 432x288 with 1 Axes>"
            ]
          },
          "metadata": {
            "tags": [],
            "needs_background": "light"
          }
        }
      ]
    },
    {
      "cell_type": "markdown",
      "metadata": {
        "id": "lOWsxpey8lN0",
        "colab_type": "text"
      },
      "source": [
        "## Fine-tuning"
      ]
    },
    {
      "cell_type": "code",
      "metadata": {
        "id": "PwkVMx8N8qMw",
        "colab_type": "code",
        "colab": {}
      },
      "source": [
        "conv_base.trainable = True\n",
        "\n",
        "set_trainable = False\n",
        "for layer in conv_base.layers:\n",
        "  if layer.name == 'block5_conv1':\n",
        "    set_trainable = True\n",
        "  if set_trainable:\n",
        "    layer.trainable = True\n",
        "  else:\n",
        "    layer.trainable = False"
      ],
      "execution_count": 0,
      "outputs": []
    },
    {
      "cell_type": "code",
      "metadata": {
        "id": "DyN-J7rs9cvo",
        "colab_type": "code",
        "colab": {
          "base_uri": "https://localhost:8080/",
          "height": 1000
        },
        "outputId": "be4a2c03-5b25-46ef-f00b-ccd3cc7a701c"
      },
      "source": [
        "# compile model\n",
        "\n",
        "model.compile(\n",
        "    loss='binary_crossentropy',\n",
        "    #\n",
        "    # choose a smaller learning rate\n",
        "    #\n",
        "    optimizer=optimizers.RMSprop(lr=1e-5), \n",
        "    metrics=['acc'])\n",
        "\n",
        "# train\n",
        "\n",
        "history = model.fit_generator(\n",
        "    train_generator,\n",
        "    steps_per_epoch=100,\n",
        "    epochs=100,\n",
        "    validation_data=validation_generator,\n",
        "    validation_steps=50)"
      ],
      "execution_count": 11,
      "outputs": [
        {
          "output_type": "stream",
          "text": [
            "Epoch 1/100\n",
            "100/100 [==============================] - 26s 256ms/step - loss: 0.1236 - acc: 0.9490 - val_loss: 1.6462 - val_acc: 0.5000\n",
            "Epoch 2/100\n",
            "100/100 [==============================] - 21s 211ms/step - loss: 0.1214 - acc: 0.9590 - val_loss: 1.6721 - val_acc: 0.4970\n",
            "Epoch 3/100\n",
            "100/100 [==============================] - 21s 209ms/step - loss: 0.1008 - acc: 0.9635 - val_loss: 2.1318 - val_acc: 0.4970\n",
            "Epoch 4/100\n",
            "100/100 [==============================] - 21s 211ms/step - loss: 0.1089 - acc: 0.9580 - val_loss: 1.6554 - val_acc: 0.5010\n",
            "Epoch 5/100\n",
            "100/100 [==============================] - 21s 211ms/step - loss: 0.1126 - acc: 0.9505 - val_loss: 2.4676 - val_acc: 0.5070\n",
            "Epoch 6/100\n",
            "100/100 [==============================] - 21s 208ms/step - loss: 0.1072 - acc: 0.9595 - val_loss: 1.4648 - val_acc: 0.5740\n",
            "Epoch 7/100\n",
            "100/100 [==============================] - 21s 210ms/step - loss: 0.1093 - acc: 0.9505 - val_loss: 1.1993 - val_acc: 0.7040\n",
            "Epoch 8/100\n",
            "100/100 [==============================] - 21s 213ms/step - loss: 0.1003 - acc: 0.9620 - val_loss: 0.5236 - val_acc: 0.8430\n",
            "Epoch 9/100\n",
            "100/100 [==============================] - 21s 209ms/step - loss: 0.1178 - acc: 0.9555 - val_loss: 0.3703 - val_acc: 0.9180\n",
            "Epoch 10/100\n",
            "100/100 [==============================] - 21s 210ms/step - loss: 0.1135 - acc: 0.9530 - val_loss: 0.1898 - val_acc: 0.9520\n",
            "Epoch 11/100\n",
            "100/100 [==============================] - 21s 210ms/step - loss: 0.1072 - acc: 0.9545 - val_loss: 0.4584 - val_acc: 0.9530\n",
            "Epoch 12/100\n",
            "100/100 [==============================] - 21s 212ms/step - loss: 0.1206 - acc: 0.9540 - val_loss: 0.0666 - val_acc: 0.9580\n",
            "Epoch 13/100\n",
            "100/100 [==============================] - 21s 211ms/step - loss: 0.1054 - acc: 0.9610 - val_loss: 0.0359 - val_acc: 0.9580\n",
            "Epoch 14/100\n",
            "100/100 [==============================] - 21s 210ms/step - loss: 0.1043 - acc: 0.9615 - val_loss: 0.0135 - val_acc: 0.9490\n",
            "Epoch 15/100\n",
            "100/100 [==============================] - 21s 212ms/step - loss: 0.0886 - acc: 0.9665 - val_loss: 0.0772 - val_acc: 0.9520\n",
            "Epoch 16/100\n",
            "100/100 [==============================] - 21s 210ms/step - loss: 0.0977 - acc: 0.9660 - val_loss: 0.1199 - val_acc: 0.9540\n",
            "Epoch 17/100\n",
            "100/100 [==============================] - 21s 209ms/step - loss: 0.0924 - acc: 0.9605 - val_loss: 0.0394 - val_acc: 0.9430\n",
            "Epoch 18/100\n",
            "100/100 [==============================] - 21s 208ms/step - loss: 0.0955 - acc: 0.9645 - val_loss: 0.2008 - val_acc: 0.9520\n",
            "Epoch 19/100\n",
            "100/100 [==============================] - 21s 210ms/step - loss: 0.1056 - acc: 0.9590 - val_loss: 0.0801 - val_acc: 0.9550\n",
            "Epoch 20/100\n",
            "100/100 [==============================] - 21s 209ms/step - loss: 0.1008 - acc: 0.9620 - val_loss: 8.1974e-04 - val_acc: 0.9400\n",
            "Epoch 21/100\n",
            "100/100 [==============================] - 21s 207ms/step - loss: 0.0738 - acc: 0.9735 - val_loss: 0.0281 - val_acc: 0.9530\n",
            "Epoch 22/100\n",
            "100/100 [==============================] - 21s 208ms/step - loss: 0.0992 - acc: 0.9670 - val_loss: 0.2057 - val_acc: 0.9460\n",
            "Epoch 23/100\n",
            "100/100 [==============================] - 21s 209ms/step - loss: 0.0992 - acc: 0.9635 - val_loss: 0.0022 - val_acc: 0.9540\n",
            "Epoch 24/100\n",
            "100/100 [==============================] - 20s 205ms/step - loss: 0.0911 - acc: 0.9665 - val_loss: 0.0431 - val_acc: 0.9480\n",
            "Epoch 25/100\n",
            "100/100 [==============================] - 20s 203ms/step - loss: 0.0806 - acc: 0.9695 - val_loss: 0.0971 - val_acc: 0.9500\n",
            "Epoch 26/100\n",
            "100/100 [==============================] - 21s 205ms/step - loss: 0.0891 - acc: 0.9640 - val_loss: 0.2282 - val_acc: 0.9540\n",
            "Epoch 27/100\n",
            "100/100 [==============================] - 21s 208ms/step - loss: 0.0833 - acc: 0.9630 - val_loss: 0.0061 - val_acc: 0.9550\n",
            "Epoch 28/100\n",
            "100/100 [==============================] - 21s 207ms/step - loss: 0.0877 - acc: 0.9680 - val_loss: 0.2925 - val_acc: 0.9570\n",
            "Epoch 29/100\n",
            "100/100 [==============================] - 21s 208ms/step - loss: 0.0986 - acc: 0.9600 - val_loss: 0.1368 - val_acc: 0.9510\n",
            "Epoch 30/100\n",
            "100/100 [==============================] - 20s 204ms/step - loss: 0.0781 - acc: 0.9680 - val_loss: 0.1280 - val_acc: 0.9530\n",
            "Epoch 31/100\n",
            "100/100 [==============================] - 21s 206ms/step - loss: 0.0893 - acc: 0.9645 - val_loss: 0.3996 - val_acc: 0.9550\n",
            "Epoch 32/100\n",
            "100/100 [==============================] - 20s 205ms/step - loss: 0.0970 - acc: 0.9615 - val_loss: 0.8131 - val_acc: 0.9550\n",
            "Epoch 33/100\n",
            "100/100 [==============================] - 20s 205ms/step - loss: 0.0956 - acc: 0.9635 - val_loss: 0.1699 - val_acc: 0.9510\n",
            "Epoch 34/100\n",
            "100/100 [==============================] - 20s 204ms/step - loss: 0.1075 - acc: 0.9575 - val_loss: 0.0032 - val_acc: 0.9520\n",
            "Epoch 35/100\n",
            "100/100 [==============================] - 21s 206ms/step - loss: 0.0732 - acc: 0.9690 - val_loss: 0.0714 - val_acc: 0.9540\n",
            "Epoch 36/100\n",
            "100/100 [==============================] - 20s 205ms/step - loss: 0.0865 - acc: 0.9660 - val_loss: 0.1836 - val_acc: 0.9540\n",
            "Epoch 37/100\n",
            "100/100 [==============================] - 20s 205ms/step - loss: 0.0814 - acc: 0.9710 - val_loss: 0.0248 - val_acc: 0.9530\n",
            "Epoch 38/100\n",
            "100/100 [==============================] - 21s 207ms/step - loss: 0.0887 - acc: 0.9645 - val_loss: 0.1092 - val_acc: 0.9500\n",
            "Epoch 39/100\n",
            "100/100 [==============================] - 21s 206ms/step - loss: 0.0791 - acc: 0.9685 - val_loss: 0.0940 - val_acc: 0.9490\n",
            "Epoch 40/100\n",
            "100/100 [==============================] - 20s 204ms/step - loss: 0.0849 - acc: 0.9620 - val_loss: 0.1670 - val_acc: 0.9370\n",
            "Epoch 41/100\n",
            "100/100 [==============================] - 20s 204ms/step - loss: 0.0749 - acc: 0.9685 - val_loss: 0.2207 - val_acc: 0.9570\n",
            "Epoch 42/100\n",
            "100/100 [==============================] - 20s 203ms/step - loss: 0.0890 - acc: 0.9660 - val_loss: 0.1973 - val_acc: 0.9530\n",
            "Epoch 43/100\n",
            "100/100 [==============================] - 20s 205ms/step - loss: 0.0953 - acc: 0.9650 - val_loss: 1.5195e-04 - val_acc: 0.9540\n",
            "Epoch 44/100\n",
            "100/100 [==============================] - 20s 203ms/step - loss: 0.0923 - acc: 0.9675 - val_loss: 0.0094 - val_acc: 0.9560\n",
            "Epoch 45/100\n",
            "100/100 [==============================] - 20s 202ms/step - loss: 0.0811 - acc: 0.9715 - val_loss: 0.0328 - val_acc: 0.9540\n",
            "Epoch 46/100\n",
            "100/100 [==============================] - 20s 204ms/step - loss: 0.0790 - acc: 0.9675 - val_loss: 0.0574 - val_acc: 0.9540\n",
            "Epoch 47/100\n",
            "100/100 [==============================] - 20s 203ms/step - loss: 0.0885 - acc: 0.9645 - val_loss: 0.0678 - val_acc: 0.9540\n",
            "Epoch 48/100\n",
            "100/100 [==============================] - 20s 202ms/step - loss: 0.0760 - acc: 0.9735 - val_loss: 0.0205 - val_acc: 0.9560\n",
            "Epoch 49/100\n",
            "100/100 [==============================] - 20s 203ms/step - loss: 0.0822 - acc: 0.9660 - val_loss: 0.4033 - val_acc: 0.9400\n",
            "Epoch 50/100\n",
            "100/100 [==============================] - 20s 202ms/step - loss: 0.0783 - acc: 0.9705 - val_loss: 0.0841 - val_acc: 0.9470\n",
            "Epoch 51/100\n",
            "100/100 [==============================] - 20s 204ms/step - loss: 0.0858 - acc: 0.9645 - val_loss: 0.0912 - val_acc: 0.9470\n",
            "Epoch 52/100\n",
            "100/100 [==============================] - 20s 204ms/step - loss: 0.0798 - acc: 0.9695 - val_loss: 0.1983 - val_acc: 0.9490\n",
            "Epoch 53/100\n",
            "100/100 [==============================] - 20s 204ms/step - loss: 0.0918 - acc: 0.9640 - val_loss: 0.0048 - val_acc: 0.9550\n",
            "Epoch 54/100\n",
            "100/100 [==============================] - 20s 202ms/step - loss: 0.0916 - acc: 0.9660 - val_loss: 0.0820 - val_acc: 0.9560\n",
            "Epoch 55/100\n",
            "100/100 [==============================] - 20s 203ms/step - loss: 0.0894 - acc: 0.9715 - val_loss: 0.0770 - val_acc: 0.9530\n",
            "Epoch 56/100\n",
            "100/100 [==============================] - 20s 202ms/step - loss: 0.0662 - acc: 0.9750 - val_loss: 0.0227 - val_acc: 0.9520\n",
            "Epoch 57/100\n",
            "100/100 [==============================] - 20s 201ms/step - loss: 0.0713 - acc: 0.9730 - val_loss: 0.0634 - val_acc: 0.9490\n",
            "Epoch 58/100\n",
            "100/100 [==============================] - 20s 202ms/step - loss: 0.0895 - acc: 0.9700 - val_loss: 0.0518 - val_acc: 0.9560\n",
            "Epoch 59/100\n",
            "100/100 [==============================] - 20s 203ms/step - loss: 0.0761 - acc: 0.9725 - val_loss: 0.0644 - val_acc: 0.9560\n",
            "Epoch 60/100\n",
            "100/100 [==============================] - 20s 202ms/step - loss: 0.0873 - acc: 0.9675 - val_loss: 0.1285 - val_acc: 0.9540\n",
            "Epoch 61/100\n",
            "100/100 [==============================] - 20s 202ms/step - loss: 0.0967 - acc: 0.9670 - val_loss: 0.0014 - val_acc: 0.9520\n",
            "Epoch 62/100\n",
            "100/100 [==============================] - 20s 202ms/step - loss: 0.0735 - acc: 0.9710 - val_loss: 0.2884 - val_acc: 0.9540\n",
            "Epoch 63/100\n",
            "100/100 [==============================] - 20s 203ms/step - loss: 0.0650 - acc: 0.9745 - val_loss: 0.0448 - val_acc: 0.9540\n",
            "Epoch 64/100\n",
            "100/100 [==============================] - 20s 202ms/step - loss: 0.0736 - acc: 0.9745 - val_loss: 0.1672 - val_acc: 0.9500\n",
            "Epoch 65/100\n",
            "100/100 [==============================] - 20s 202ms/step - loss: 0.0623 - acc: 0.9740 - val_loss: 0.0057 - val_acc: 0.9550\n",
            "Epoch 66/100\n",
            "100/100 [==============================] - 20s 202ms/step - loss: 0.0873 - acc: 0.9695 - val_loss: 0.0263 - val_acc: 0.9540\n",
            "Epoch 67/100\n",
            "100/100 [==============================] - 20s 203ms/step - loss: 0.0670 - acc: 0.9755 - val_loss: 0.2877 - val_acc: 0.9550\n",
            "Epoch 68/100\n",
            "100/100 [==============================] - 20s 201ms/step - loss: 0.0671 - acc: 0.9765 - val_loss: 0.0742 - val_acc: 0.9550\n",
            "Epoch 69/100\n",
            "100/100 [==============================] - 20s 203ms/step - loss: 0.0723 - acc: 0.9725 - val_loss: 0.0865 - val_acc: 0.9490\n",
            "Epoch 70/100\n",
            "100/100 [==============================] - 20s 203ms/step - loss: 0.0787 - acc: 0.9685 - val_loss: 0.1444 - val_acc: 0.9490\n",
            "Epoch 71/100\n",
            "100/100 [==============================] - 20s 203ms/step - loss: 0.0655 - acc: 0.9760 - val_loss: 0.2069 - val_acc: 0.9580\n",
            "Epoch 72/100\n",
            "100/100 [==============================] - 20s 202ms/step - loss: 0.0556 - acc: 0.9800 - val_loss: 0.1155 - val_acc: 0.9550\n",
            "Epoch 73/100\n",
            "100/100 [==============================] - 20s 202ms/step - loss: 0.0648 - acc: 0.9760 - val_loss: 0.0043 - val_acc: 0.9600\n",
            "Epoch 74/100\n",
            "100/100 [==============================] - 20s 201ms/step - loss: 0.0713 - acc: 0.9740 - val_loss: 0.0072 - val_acc: 0.9600\n",
            "Epoch 75/100\n",
            "100/100 [==============================] - 20s 201ms/step - loss: 0.0816 - acc: 0.9720 - val_loss: 0.3774 - val_acc: 0.9540\n",
            "Epoch 76/100\n",
            "100/100 [==============================] - 20s 202ms/step - loss: 0.0715 - acc: 0.9720 - val_loss: 0.2770 - val_acc: 0.9540\n",
            "Epoch 77/100\n",
            "100/100 [==============================] - 20s 202ms/step - loss: 0.0649 - acc: 0.9750 - val_loss: 0.1710 - val_acc: 0.9550\n",
            "Epoch 78/100\n",
            "100/100 [==============================] - 20s 202ms/step - loss: 0.0589 - acc: 0.9785 - val_loss: 0.0239 - val_acc: 0.9490\n",
            "Epoch 79/100\n",
            "100/100 [==============================] - 20s 203ms/step - loss: 0.0739 - acc: 0.9695 - val_loss: 0.0198 - val_acc: 0.9530\n",
            "Epoch 80/100\n",
            "100/100 [==============================] - 20s 202ms/step - loss: 0.0730 - acc: 0.9705 - val_loss: 0.1505 - val_acc: 0.9560\n",
            "Epoch 81/100\n",
            "100/100 [==============================] - 20s 202ms/step - loss: 0.0572 - acc: 0.9740 - val_loss: 0.2796 - val_acc: 0.9470\n",
            "Epoch 82/100\n",
            "100/100 [==============================] - 20s 202ms/step - loss: 0.0648 - acc: 0.9730 - val_loss: 0.3424 - val_acc: 0.9550\n",
            "Epoch 83/100\n",
            "100/100 [==============================] - 20s 203ms/step - loss: 0.0579 - acc: 0.9770 - val_loss: 0.3923 - val_acc: 0.9500\n",
            "Epoch 84/100\n",
            "100/100 [==============================] - 20s 204ms/step - loss: 0.0690 - acc: 0.9740 - val_loss: 0.0348 - val_acc: 0.9500\n",
            "Epoch 85/100\n",
            "100/100 [==============================] - 20s 202ms/step - loss: 0.0588 - acc: 0.9760 - val_loss: 0.0854 - val_acc: 0.9530\n",
            "Epoch 86/100\n",
            "100/100 [==============================] - 20s 202ms/step - loss: 0.0644 - acc: 0.9765 - val_loss: 0.1033 - val_acc: 0.9600\n",
            "Epoch 87/100\n",
            "100/100 [==============================] - 20s 203ms/step - loss: 0.0817 - acc: 0.9730 - val_loss: 0.0044 - val_acc: 0.9600\n",
            "Epoch 88/100\n",
            "100/100 [==============================] - 20s 201ms/step - loss: 0.0761 - acc: 0.9740 - val_loss: 0.0044 - val_acc: 0.9540\n",
            "Epoch 89/100\n",
            "100/100 [==============================] - 20s 199ms/step - loss: 0.0577 - acc: 0.9790 - val_loss: 0.1323 - val_acc: 0.9600\n",
            "Epoch 90/100\n",
            "100/100 [==============================] - 20s 199ms/step - loss: 0.0811 - acc: 0.9705 - val_loss: 0.1119 - val_acc: 0.9430\n",
            "Epoch 91/100\n",
            "100/100 [==============================] - 20s 200ms/step - loss: 0.0593 - acc: 0.9770 - val_loss: 0.0541 - val_acc: 0.9480\n",
            "Epoch 92/100\n",
            "100/100 [==============================] - 20s 199ms/step - loss: 0.0733 - acc: 0.9755 - val_loss: 0.1721 - val_acc: 0.9540\n",
            "Epoch 93/100\n",
            "100/100 [==============================] - 20s 199ms/step - loss: 0.0652 - acc: 0.9750 - val_loss: 0.0043 - val_acc: 0.9650\n",
            "Epoch 94/100\n",
            "100/100 [==============================] - 20s 198ms/step - loss: 0.0673 - acc: 0.9755 - val_loss: 0.0074 - val_acc: 0.9540\n",
            "Epoch 95/100\n",
            "100/100 [==============================] - 20s 201ms/step - loss: 0.0694 - acc: 0.9745 - val_loss: 0.0377 - val_acc: 0.9600\n",
            "Epoch 96/100\n",
            "100/100 [==============================] - 20s 199ms/step - loss: 0.0569 - acc: 0.9755 - val_loss: 0.0215 - val_acc: 0.9560\n",
            "Epoch 97/100\n",
            "100/100 [==============================] - 20s 198ms/step - loss: 0.0639 - acc: 0.9765 - val_loss: 0.0522 - val_acc: 0.9540\n",
            "Epoch 98/100\n",
            "100/100 [==============================] - 20s 199ms/step - loss: 0.0603 - acc: 0.9730 - val_loss: 0.0241 - val_acc: 0.9500\n",
            "Epoch 99/100\n",
            "100/100 [==============================] - 20s 201ms/step - loss: 0.0610 - acc: 0.9790 - val_loss: 0.1801 - val_acc: 0.9500\n",
            "Epoch 100/100\n",
            "100/100 [==============================] - 20s 200ms/step - loss: 0.0698 - acc: 0.9750 - val_loss: 0.4911 - val_acc: 0.9560\n"
          ],
          "name": "stdout"
        }
      ]
    },
    {
      "cell_type": "markdown",
      "metadata": {
        "id": "eVBQgh5M-Rtz",
        "colab_type": "text"
      },
      "source": [
        "## Display learning curves during fine-tuning"
      ]
    },
    {
      "cell_type": "code",
      "metadata": {
        "id": "mbkIw7Ie-NP4",
        "colab_type": "code",
        "colab": {
          "base_uri": "https://localhost:8080/",
          "height": 545
        },
        "outputId": "37cebe69-049a-477c-fc5b-cd72bf1fdd29"
      },
      "source": [
        "%matplotlib inline\n",
        "\n",
        "import matplotlib.pyplot as plt\n",
        "\n",
        "acc = history.history['acc']\n",
        "val_acc = history.history['val_acc']\n",
        "\n",
        "loss = history.history['loss']\n",
        "val_loss = history.history['val_loss']\n",
        "\n",
        "epochs = range(1, len(acc) + 1)\n",
        "\n",
        "# training and validation accuracy\n",
        "\n",
        "plt.plot(epochs, acc, 'bo', label='training acc')\n",
        "plt.plot(epochs, val_acc, 'b', label='validation acc')\n",
        "plt.title('training and validation accuracy')\n",
        "plt.legend()\n",
        "\n",
        "plt.figure()\n",
        "\n",
        "# training and validation loss\n",
        "\n",
        "plt.plot(epochs, loss, 'bo', label='training loss')\n",
        "plt.plot(epochs, val_loss, 'b', label='validation loss')\n",
        "plt.title('training and validation loss')\n",
        "plt.legend()\n",
        "\n",
        "plt.show()"
      ],
      "execution_count": 12,
      "outputs": [
        {
          "output_type": "display_data",
          "data": {
            "image/png": "[encoded data removed]",
            "text/plain": [
              "<Figure size 432x288 with 1 Axes>"
            ]
          },
          "metadata": {
            "tags": [],
            "needs_background": "light"
          }
        },
        {
          "output_type": "display_data",
          "data": {
            "image/png": "[encoded data removed]",
            "text/plain": [
              "<Figure size 432x288 with 1 Axes>"
            ]
          },
          "metadata": {
            "tags": [],
            "needs_background": "light"
          }
        }
      ]
    },
    {
      "cell_type": "markdown",
      "metadata": {
        "id": "he3Nw6TOJwjx",
        "colab_type": "text"
      },
      "source": [
        "## Print out validation loss and accuracy"
      ]
    },
    {
      "cell_type": "code",
      "metadata": {
        "id": "SVQtrk7uJdhl",
        "colab_type": "code",
        "colab": {}
      },
      "source": [
        "val_loss, val_acc = model.evaluate_generator(validation_generator, steps=50)"
      ],
      "execution_count": 0,
      "outputs": []
    },
    {
      "cell_type": "code",
      "metadata": {
        "id": "HpdddLi1SUMe",
        "colab_type": "code",
        "colab": {
          "base_uri": "https://localhost:8080/",
          "height": 51
        },
        "outputId": "7c9a9e44-8a08-4d58-97dc-58099ee03658"
      },
      "source": [
        "print(\"Validation loss:\", val_loss)\n",
        "print(\"Validation accuracy:\", val_acc)"
      ],
      "execution_count": 14,
      "outputs": [
        {
          "output_type": "stream",
          "text": [
            "Validation loss: 0.20350050926208496\n",
            "Validation accuracy: 0.9559999704360962\n"
          ],
          "name": "stdout"
        }
      ]
    },
    {
      "cell_type": "markdown",
      "metadata": {
        "id": "7Ww756WToby8",
        "colab_type": "text"
      },
      "source": [
        "## Save the model"
      ]
    },
    {
      "cell_type": "code",
      "metadata": {
        "id": "0lTUpUdwobKW",
        "colab_type": "code",
        "colab": {}
      },
      "source": [
        "model_fname = 'cats_and_dogs_small_4.h5' \n",
        "model.save(model_fname)"
      ],
      "execution_count": 0,
      "outputs": []
    },
    {
      "cell_type": "code",
      "metadata": {
        "id": "YhEoI8ZTok-X",
        "colab_type": "code",
        "colab": {
          "base_uri": "https://localhost:8080/",
          "height": 448
        },
        "outputId": "03f4ec97-1c8a-4349-d1ff-b30c1ac08492"
      },
      "source": [
        "from google.colab import files\n",
        "\n",
        "with open(model_fname, 'r') as f:\n",
        "  files.download(model_fname)"
      ],
      "execution_count": 0,
      "outputs": [
        {
          "output_type": "stream",
          "text": [
            "----------------------------------------\n",
            "Exception happened during processing of request from ('::ffff:127.0.0.1', 57154, 0, 0)\n",
            "Traceback (most recent call last):\n",
            "  File \"/usr/lib/python3.6/socketserver.py\", line 320, in _handle_request_noblock\n",
            "    self.process_request(request, client_address)\n",
            "  File \"/usr/lib/python3.6/socketserver.py\", line 351, in process_request\n",
            "    self.finish_request(request, client_address)\n",
            "  File \"/usr/lib/python3.6/socketserver.py\", line 364, in finish_request\n",
            "    self.RequestHandlerClass(request, client_address, self)\n",
            "  File \"/usr/lib/python3.6/socketserver.py\", line 724, in __init__\n",
            "    self.handle()\n",
            "  File \"/usr/lib/python3.6/http/server.py\", line 418, in handle\n",
            "    self.handle_one_request()\n",
            "  File \"/usr/lib/python3.6/http/server.py\", line 406, in handle_one_request\n",
            "    method()\n",
            "  File \"/usr/lib/python3.6/http/server.py\", line 639, in do_GET\n",
            "    self.copyfile(f, self.wfile)\n",
            "  File \"/usr/lib/python3.6/http/server.py\", line 800, in copyfile\n",
            "    shutil.copyfileobj(source, outputfile)\n",
            "  File \"/usr/lib/python3.6/shutil.py\", line 82, in copyfileobj\n",
            "    fdst.write(buf)\n",
            "  File \"/usr/lib/python3.6/socketserver.py\", line 803, in write\n",
            "    self._sock.sendall(b)\n",
            "ConnectionResetError: [Errno 104] Connection reset by peer\n",
            "----------------------------------------\n"
          ],
          "name": "stderr"
        }
      ]
    },
    {
      "cell_type": "code",
      "metadata": {
        "id": "VNEL4CCcS0Oj",
        "colab_type": "code",
        "colab": {}
      },
      "source": [
        ""
      ],
      "execution_count": 0,
      "outputs": []
    },
    {
      "cell_type": "code",
      "metadata": {
        "id": "hfa9ABE19MXO",
        "colab_type": "code",
        "colab": {}
      },
      "source": [
        ""
      ],
      "execution_count": 0,
      "outputs": []
    }
  ]
}