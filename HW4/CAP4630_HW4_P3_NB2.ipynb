{
  "nbformat": 4,
  "nbformat_minor": 0,
  "metadata": {
    "colab": {
      "name": "CAP4630_HW4_P3_NB2",
      "provenance": [],
      "collapsed_sections": [],
      "include_colab_link": true
    },
    "kernelspec": {
      "name": "python3",
      "display_name": "Python 3"
    },
    "accelerator": "GPU"
  },
  "cells": [
    {
      "cell_type": "markdown",
      "metadata": {
        "id": "view-in-github",
        "colab_type": "text"
      },
      "source": [
        "<a href=\"https://colab.research.google.com/github/NoahCorlew/CAP4630-Homework/blob/master/HW4/CAP4630_HW4_P3_NB2.ipynb\" target=\"_parent\"><img src=\"https://colab.research.google.com/assets/colab-badge.svg\" alt=\"Open In Colab\"/></a>"
      ]
    },
    {
      "cell_type": "markdown",
      "metadata": {
        "id": "KSrgMJ5vKFzQ",
        "colab_type": "text"
      },
      "source": [
        "# ResNet50"
      ]
    },
    {
      "cell_type": "markdown",
      "metadata": {
        "id": "BqIG8QHMLNOn",
        "colab_type": "text"
      },
      "source": [
        "## Download the data"
      ]
    },
    {
      "cell_type": "markdown",
      "metadata": {
        "id": "t3I1jd7cKV6_",
        "colab_type": "text"
      },
      "source": [
        "Download the example data, a zip. of 2,000 JPG pictures of cats and dogs and extract it locally in ```/tmp```.\n",
        "\n"
      ]
    },
    {
      "cell_type": "code",
      "metadata": {
        "id": "JWjprHEXJ5Qi",
        "colab_type": "code",
        "outputId": "fbaf46de-a03c-41d9-e4d7-9be9562bed75",
        "colab": {
          "base_uri": "https://localhost:8080/",
          "height": 206
        }
      },
      "source": [
        "!wget --no-check-certificate \\\n",
        "    https://storage.googleapis.com/mledu-datasets/cats_and_dogs_filtered.zip \\\n",
        "    -O /tmp/cats_and_dogs_filtered.zip"
      ],
      "execution_count": 0,
      "outputs": [
        {
          "output_type": "stream",
          "text": [
            "--2020-04-21 21:37:15--  https://storage.googleapis.com/mledu-datasets/cats_and_dogs_filtered.zip\n",
            "Resolving storage.googleapis.com (storage.googleapis.com)... 172.217.194.128, 2404:6800:4003:c06::80\n",
            "Connecting to storage.googleapis.com (storage.googleapis.com)|172.217.194.128|:443... connected.\n",
            "HTTP request sent, awaiting response... 200 OK\n",
            "Length: 68606236 (65M) [application/zip]\n",
            "Saving to: ‘/tmp/cats_and_dogs_filtered.zip’\n",
            "\n",
            "/tmp/cats_and_dogs_ 100%[===================>]  65.43M  46.2MB/s    in 1.4s    \n",
            "\n",
            "2020-04-21 21:37:17 (46.2 MB/s) - ‘/tmp/cats_and_dogs_filtered.zip’ saved [68606236/68606236]\n",
            "\n"
          ],
          "name": "stdout"
        }
      ]
    },
    {
      "cell_type": "code",
      "metadata": {
        "id": "WvoHtdA-K6Rw",
        "colab_type": "code",
        "colab": {}
      },
      "source": [
        "import os\n",
        "import zipfile\n",
        "\n",
        "local_zip = '/tmp/cats_and_dogs_filtered.zip'\n",
        "zip_ref = zipfile.ZipFile(local_zip, 'r')\n",
        "zip_ref.extractall('/tmp')\n",
        "zip_ref.close()"
      ],
      "execution_count": 0,
      "outputs": []
    },
    {
      "cell_type": "markdown",
      "metadata": {
        "id": "shZiOBnJMyy_",
        "colab_type": "text"
      },
      "source": [
        "Note that the data provided by Google does not have a test set."
      ]
    },
    {
      "cell_type": "code",
      "metadata": {
        "id": "dL8ikM89LlsH",
        "colab_type": "code",
        "colab": {}
      },
      "source": [
        "base_dir = '/tmp/cats_and_dogs_filtered'\n",
        "train_dir = os.path.join(base_dir, 'train')\n",
        "validation_dir = os.path.join(base_dir, 'validation')\n",
        "\n",
        "# Directory with our training cat pictures\n",
        "train_cats_dir = os.path.join(train_dir, 'cats')\n",
        "\n",
        "# Directory with our training dog pictures\n",
        "train_dogs_dir = os.path.join(train_dir, 'dogs')\n",
        "\n",
        "# Directory with our validation cat pictures\n",
        "validation_cats_dir = os.path.join(validation_dir, 'cats')\n",
        "\n",
        "# Directory with our validation dog pictures\n",
        "validation_dogs_dir = os.path.join(validation_dir, 'dogs')"
      ],
      "execution_count": 0,
      "outputs": []
    },
    {
      "cell_type": "markdown",
      "metadata": {
        "id": "inyP8bcdXnn-",
        "colab_type": "text"
      },
      "source": [
        "## Build network with InceptionV3 convolution base and custom densely connected layers"
      ]
    },
    {
      "cell_type": "markdown",
      "metadata": {
        "id": "kQ48W5T9rHWu",
        "colab_type": "text"
      },
      "source": [
        "### Load the convolutional base"
      ]
    },
    {
      "cell_type": "code",
      "metadata": {
        "id": "Y0FgtANCXm_H",
        "colab_type": "code",
        "outputId": "27e9e10f-9056-48f3-8065-9a02bba0d2f7",
        "colab": {
          "base_uri": "https://localhost:8080/",
          "height": 103
        }
      },
      "source": [
        "from keras.applications.resnet50 import ResNet50\n",
        "\n",
        "conv_base = ResNet50(\n",
        "    weights='imagenet', \n",
        "    include_top=False, \n",
        "    input_shape=(150, 150, 3))"
      ],
      "execution_count": 0,
      "outputs": [
        {
          "output_type": "stream",
          "text": [
            "Using TensorFlow backend.\n",
            "/usr/local/lib/python3.6/dist-packages/keras_applications/resnet50.py:265: UserWarning: The output shape of `ResNet50(include_top=False)` has been changed since Keras 2.2.0.\n",
            "  warnings.warn('The output shape of `ResNet50(include_top=False)` '\n"
          ],
          "name": "stderr"
        },
        {
          "output_type": "stream",
          "text": [
            "Downloading data from https://github.com/fchollet/deep-learning-models/releases/download/v0.2/resnet50_weights_tf_dim_ordering_tf_kernels_notop.h5\n",
            "94658560/94653016 [==============================] - 9s 0us/step\n"
          ],
          "name": "stdout"
        }
      ]
    },
    {
      "cell_type": "markdown",
      "metadata": {
        "id": "D6OBHOO9q1ou",
        "colab_type": "text"
      },
      "source": [
        "### Freeze the convolutional base"
      ]
    },
    {
      "cell_type": "code",
      "metadata": {
        "id": "UleRo4Dpq6Ld",
        "colab_type": "code",
        "colab": {}
      },
      "source": [
        "conv_base.trainable = False"
      ],
      "execution_count": 0,
      "outputs": []
    },
    {
      "cell_type": "markdown",
      "metadata": {
        "id": "Qfx6PqhPrb7Q",
        "colab_type": "text"
      },
      "source": [
        "### Concatenate the convolutional base and densely connected layers\n"
      ]
    },
    {
      "cell_type": "code",
      "metadata": {
        "id": "qUpmocDAO3xm",
        "colab_type": "code",
        "colab": {}
      },
      "source": [
        "from keras import layers\n",
        "from keras import models\n",
        "from keras import optimizers\n",
        "\n",
        "model = models.Sequential()\n",
        "model.add(conv_base)\n",
        "model.add(layers.Flatten())\n",
        "model.add(layers.Dense(256, activation='tanh'))\n",
        "#model.add(layers.Dropout(0.1))\n",
        "model.add(layers.Dense(1, activation='sigmoid'))"
      ],
      "execution_count": 0,
      "outputs": []
    },
    {
      "cell_type": "code",
      "metadata": {
        "id": "Fh6gZSeAjF7c",
        "colab_type": "code",
        "outputId": "863b2a3f-1a18-4f7f-b394-d51a9b6e0db5",
        "colab": {
          "base_uri": "https://localhost:8080/",
          "height": 293
        }
      },
      "source": [
        "model.summary()"
      ],
      "execution_count": 0,
      "outputs": [
        {
          "output_type": "stream",
          "text": [
            "Model: \"sequential_1\"\n",
            "_________________________________________________________________\n",
            "Layer (type)                 Output Shape              Param #   \n",
            "=================================================================\n",
            "resnet50 (Model)             (None, 5, 5, 2048)        23587712  \n",
            "_________________________________________________________________\n",
            "flatten_1 (Flatten)          (None, 51200)             0         \n",
            "_________________________________________________________________\n",
            "dense_1 (Dense)              (None, 256)               13107456  \n",
            "_________________________________________________________________\n",
            "dense_2 (Dense)              (None, 1)                 257       \n",
            "=================================================================\n",
            "Total params: 36,695,425\n",
            "Trainable params: 13,107,713\n",
            "Non-trainable params: 23,587,712\n",
            "_________________________________________________________________\n"
          ],
          "name": "stdout"
        }
      ]
    },
    {
      "cell_type": "markdown",
      "metadata": {
        "id": "eZjBiddhi5Qj",
        "colab_type": "text"
      },
      "source": [
        "## Train the model end to end with frozen convolutional base"
      ]
    },
    {
      "cell_type": "code",
      "metadata": {
        "id": "tfAQlC2Oi41L",
        "colab_type": "code",
        "outputId": "9b80997b-ba89-498b-f705-bcbf166cd9cf",
        "colab": {
          "base_uri": "https://localhost:8080/",
          "height": 1000
        }
      },
      "source": [
        "from keras.preprocessing.image import ImageDataGenerator\n",
        "from keras import optimizers\n",
        "\n",
        "# data augmentation\n",
        "\n",
        "train_datagen = ImageDataGenerator(\n",
        "    rescale=1./255, \n",
        "    rotation_range=40,\n",
        "    width_shift_range=0.2,\n",
        "    height_shift_range=0.2,\n",
        "    shear_range=0.2,\n",
        "    zoom_range=0.2,\n",
        "    horizontal_flip=True,\n",
        "    fill_mode='nearest'\n",
        ")\n",
        "\n",
        "train_generator = train_datagen.flow_from_directory(\n",
        "    train_dir,\n",
        "    target_size=(150, 150),\n",
        "    batch_size=20,\n",
        "    class_mode='binary')\n",
        "\n",
        "validation_datagen = ImageDataGenerator(rescale=1./255)\n",
        "\n",
        "validation_generator = validation_datagen.flow_from_directory(\n",
        "    validation_dir,\n",
        "    target_size=(150, 150),\n",
        "    batch_size=20,\n",
        "    class_mode='binary')\n",
        "\n",
        "# compile model\n",
        "\n",
        "model.compile(\n",
        "    loss='binary_crossentropy', \n",
        "    optimizer=optimizers.RMSprop(lr=2e-5), \n",
        "    metrics=['acc'])\n",
        "\n",
        "# train\n",
        "\n",
        "history = model.fit_generator(\n",
        "    train_generator,\n",
        "    steps_per_epoch=100,\n",
        "    epochs=30,\n",
        "    validation_data=validation_generator,\n",
        "    validation_steps=50\n",
        ")"
      ],
      "execution_count": 0,
      "outputs": [
        {
          "output_type": "stream",
          "text": [
            "Found 2000 images belonging to 2 classes.\n",
            "Found 1000 images belonging to 2 classes.\n",
            "Epoch 1/30\n",
            "100/100 [==============================] - 29s 289ms/step - loss: 0.3707 - acc: 0.8265 - val_loss: 0.6834 - val_acc: 0.5000\n",
            "Epoch 2/30\n",
            "100/100 [==============================] - 18s 184ms/step - loss: 0.2666 - acc: 0.8780 - val_loss: 0.8360 - val_acc: 0.5000\n",
            "Epoch 3/30\n",
            "100/100 [==============================] - 18s 183ms/step - loss: 0.2132 - acc: 0.9070 - val_loss: 0.7374 - val_acc: 0.5010\n",
            "Epoch 4/30\n",
            "100/100 [==============================] - 18s 184ms/step - loss: 0.2267 - acc: 0.9070 - val_loss: 0.7747 - val_acc: 0.5010\n",
            "Epoch 5/30\n",
            "100/100 [==============================] - 18s 181ms/step - loss: 0.2100 - acc: 0.9180 - val_loss: 1.0018 - val_acc: 0.5000\n",
            "Epoch 6/30\n",
            "100/100 [==============================] - 18s 180ms/step - loss: 0.1922 - acc: 0.9210 - val_loss: 1.2008 - val_acc: 0.5000\n",
            "Epoch 7/30\n",
            "100/100 [==============================] - 18s 183ms/step - loss: 0.1948 - acc: 0.9275 - val_loss: 0.7877 - val_acc: 0.5000\n",
            "Epoch 8/30\n",
            "100/100 [==============================] - 18s 180ms/step - loss: 0.1873 - acc: 0.9255 - val_loss: 0.7867 - val_acc: 0.5000\n",
            "Epoch 9/30\n",
            "100/100 [==============================] - 18s 181ms/step - loss: 0.1996 - acc: 0.9230 - val_loss: 0.8432 - val_acc: 0.5010\n",
            "Epoch 10/30\n",
            "100/100 [==============================] - 18s 180ms/step - loss: 0.1734 - acc: 0.9215 - val_loss: 0.6958 - val_acc: 0.4970\n",
            "Epoch 11/30\n",
            "100/100 [==============================] - 18s 180ms/step - loss: 0.1665 - acc: 0.9395 - val_loss: 0.6995 - val_acc: 0.5000\n",
            "Epoch 12/30\n",
            "100/100 [==============================] - 18s 179ms/step - loss: 0.1864 - acc: 0.9230 - val_loss: 0.6750 - val_acc: 0.5000\n",
            "Epoch 13/30\n",
            "100/100 [==============================] - 18s 179ms/step - loss: 0.1538 - acc: 0.9405 - val_loss: 0.8209 - val_acc: 0.5000\n",
            "Epoch 14/30\n",
            "100/100 [==============================] - 18s 178ms/step - loss: 0.1580 - acc: 0.9420 - val_loss: 1.2725 - val_acc: 0.5000\n",
            "Epoch 15/30\n",
            "100/100 [==============================] - 18s 179ms/step - loss: 0.1561 - acc: 0.9375 - val_loss: 0.7137 - val_acc: 0.5000\n",
            "Epoch 16/30\n",
            "100/100 [==============================] - 18s 183ms/step - loss: 0.1416 - acc: 0.9450 - val_loss: 1.4676 - val_acc: 0.5000\n",
            "Epoch 17/30\n",
            "100/100 [==============================] - 18s 179ms/step - loss: 0.1618 - acc: 0.9360 - val_loss: 1.2151 - val_acc: 0.5000\n",
            "Epoch 18/30\n",
            "100/100 [==============================] - 18s 175ms/step - loss: 0.1520 - acc: 0.9435 - val_loss: 1.2901 - val_acc: 0.5000\n",
            "Epoch 19/30\n",
            "100/100 [==============================] - 18s 179ms/step - loss: 0.1563 - acc: 0.9390 - val_loss: 1.6075 - val_acc: 0.5000\n",
            "Epoch 20/30\n",
            "100/100 [==============================] - 18s 185ms/step - loss: 0.1403 - acc: 0.9415 - val_loss: 2.3947 - val_acc: 0.5000\n",
            "Epoch 21/30\n",
            "100/100 [==============================] - 18s 184ms/step - loss: 0.1202 - acc: 0.9460 - val_loss: 2.3899 - val_acc: 0.5000\n",
            "Epoch 22/30\n",
            "100/100 [==============================] - 19s 187ms/step - loss: 0.1413 - acc: 0.9460 - val_loss: 1.5136 - val_acc: 0.5000\n",
            "Epoch 23/30\n",
            "100/100 [==============================] - 18s 185ms/step - loss: 0.1367 - acc: 0.9455 - val_loss: 2.4760 - val_acc: 0.5000\n",
            "Epoch 24/30\n",
            "100/100 [==============================] - 18s 182ms/step - loss: 0.1403 - acc: 0.9475 - val_loss: 1.3469 - val_acc: 0.5000\n",
            "Epoch 25/30\n",
            "100/100 [==============================] - 18s 181ms/step - loss: 0.1249 - acc: 0.9480 - val_loss: 1.8342 - val_acc: 0.5000\n",
            "Epoch 26/30\n",
            "100/100 [==============================] - 18s 182ms/step - loss: 0.1409 - acc: 0.9470 - val_loss: 2.2922 - val_acc: 0.5000\n",
            "Epoch 27/30\n",
            "100/100 [==============================] - 18s 178ms/step - loss: 0.1299 - acc: 0.9490 - val_loss: 1.8191 - val_acc: 0.5000\n",
            "Epoch 28/30\n",
            "100/100 [==============================] - 18s 178ms/step - loss: 0.1298 - acc: 0.9405 - val_loss: 2.1483 - val_acc: 0.5000\n",
            "Epoch 29/30\n",
            "100/100 [==============================] - 18s 180ms/step - loss: 0.1235 - acc: 0.9550 - val_loss: 2.3881 - val_acc: 0.5000\n",
            "Epoch 30/30\n",
            "100/100 [==============================] - 18s 178ms/step - loss: 0.1298 - acc: 0.9505 - val_loss: 2.1592 - val_acc: 0.5000\n"
          ],
          "name": "stdout"
        }
      ]
    },
    {
      "cell_type": "markdown",
      "metadata": {
        "id": "xqRc_vHKc92U",
        "colab_type": "text"
      },
      "source": [
        "## Display curves of loss and accuracy during training"
      ]
    },
    {
      "cell_type": "code",
      "metadata": {
        "id": "ybWwdzz9bwuQ",
        "colab_type": "code",
        "outputId": "b789eed6-4dd0-464c-b532-6a4f3e656a88",
        "colab": {
          "base_uri": "https://localhost:8080/",
          "height": 545
        }
      },
      "source": [
        "%matplotlib inline\n",
        "\n",
        "import matplotlib.pyplot as plt\n",
        "\n",
        "acc = history.history['acc']\n",
        "val_acc = history.history['val_acc']\n",
        "\n",
        "loss = history.history['loss']\n",
        "val_loss = history.history['val_loss']\n",
        "\n",
        "epochs = range(1, len(acc) + 1)\n",
        "\n",
        "# training and validation accuracy\n",
        "\n",
        "plt.plot(epochs, acc, 'bo', label='training acc')\n",
        "plt.plot(epochs, val_acc, 'b', label='validation acc')\n",
        "plt.title('training and validation accuracy')\n",
        "plt.legend()\n",
        "\n",
        "plt.figure()\n",
        "\n",
        "# training and validation loss\n",
        "\n",
        "plt.plot(epochs, loss, 'bo', label='training loss')\n",
        "plt.plot(epochs, val_loss, 'b', label='validation loss')\n",
        "plt.title('training and validation loss')\n",
        "plt.legend()\n",
        "\n",
        "plt.show()"
      ],
      "execution_count": 0,
      "outputs": [
        {
          "output_type": "display_data",
          "data": {
            "image/png": "[encoded data removed]",
            "text/plain": [
              "<Figure size 432x288 with 1 Axes>"
            ]
          },
          "metadata": {
            "tags": [],
            "needs_background": "light"
          }
        },
        {
          "output_type": "display_data",
          "data": {
            "image/png": "[encoded data removed]",
            "text/plain": [
              "<Figure size 432x288 with 1 Axes>"
            ]
          },
          "metadata": {
            "tags": [],
            "needs_background": "light"
          }
        }
      ]
    },
    {
      "cell_type": "markdown",
      "metadata": {
        "id": "lOWsxpey8lN0",
        "colab_type": "text"
      },
      "source": [
        "## Fine-tuning"
      ]
    },
    {
      "cell_type": "code",
      "metadata": {
        "id": "PwkVMx8N8qMw",
        "colab_type": "code",
        "colab": {}
      },
      "source": [
        "conv_base.trainable = True\n",
        "\n",
        "set_trainable = False\n",
        "for layer in conv_base.layers:\n",
        "  if layer.name == 'block5_conv3':\n",
        "    set_trainable = True\n",
        "  if set_trainable:\n",
        "    layer.trainable = True\n",
        "  else:\n",
        "    layer.trainable = False"
      ],
      "execution_count": 0,
      "outputs": []
    },
    {
      "cell_type": "code",
      "metadata": {
        "id": "DyN-J7rs9cvo",
        "colab_type": "code",
        "outputId": "28467230-9902-47b5-9476-ec14174308e3",
        "colab": {
          "base_uri": "https://localhost:8080/",
          "height": 1000
        }
      },
      "source": [
        "# compile model\n",
        "\n",
        "model.compile(\n",
        "    loss='binary_crossentropy',\n",
        "    #\n",
        "    # choose a smaller learning rate\n",
        "    #\n",
        "    optimizer=optimizers.RMSprop(lr=1e-5), \n",
        "    metrics=['acc'])\n",
        "\n",
        "# train\n",
        "\n",
        "history = model.fit_generator(\n",
        "    train_generator,\n",
        "    steps_per_epoch=100,\n",
        "    epochs=100,\n",
        "    validation_data=validation_generator,\n",
        "    validation_steps=50)"
      ],
      "execution_count": 0,
      "outputs": [
        {
          "output_type": "stream",
          "text": [
            "Epoch 1/100\n",
            "100/100 [==============================] - 22s 221ms/step - loss: 0.1268 - acc: 0.9495 - val_loss: 0.6917 - val_acc: 0.4960\n",
            "Epoch 2/100\n",
            "100/100 [==============================] - 18s 182ms/step - loss: 0.1084 - acc: 0.9625 - val_loss: 2.6927 - val_acc: 0.5000\n",
            "Epoch 3/100\n",
            "100/100 [==============================] - 18s 183ms/step - loss: 0.1219 - acc: 0.9530 - val_loss: 3.1507 - val_acc: 0.4990\n",
            "Epoch 4/100\n",
            "100/100 [==============================] - 18s 180ms/step - loss: 0.0959 - acc: 0.9645 - val_loss: 1.4512 - val_acc: 0.4840\n",
            "Epoch 5/100\n",
            "100/100 [==============================] - 18s 179ms/step - loss: 0.1153 - acc: 0.9565 - val_loss: 0.9667 - val_acc: 0.5000\n",
            "Epoch 6/100\n",
            "100/100 [==============================] - 18s 178ms/step - loss: 0.0868 - acc: 0.9670 - val_loss: 1.1121 - val_acc: 0.5740\n",
            "Epoch 7/100\n",
            "100/100 [==============================] - 18s 178ms/step - loss: 0.1038 - acc: 0.9550 - val_loss: 0.8001 - val_acc: 0.7200\n",
            "Epoch 8/100\n",
            "100/100 [==============================] - 18s 180ms/step - loss: 0.1086 - acc: 0.9615 - val_loss: 0.8820 - val_acc: 0.8430\n",
            "Epoch 9/100\n",
            "100/100 [==============================] - 18s 178ms/step - loss: 0.1079 - acc: 0.9540 - val_loss: 0.1734 - val_acc: 0.9160\n",
            "Epoch 10/100\n",
            "100/100 [==============================] - 18s 181ms/step - loss: 0.1156 - acc: 0.9565 - val_loss: 0.2938 - val_acc: 0.9490\n",
            "Epoch 11/100\n",
            "100/100 [==============================] - 18s 180ms/step - loss: 0.1035 - acc: 0.9585 - val_loss: 0.0153 - val_acc: 0.9590\n",
            "Epoch 12/100\n",
            "100/100 [==============================] - 18s 180ms/step - loss: 0.1172 - acc: 0.9565 - val_loss: 0.1315 - val_acc: 0.9580\n",
            "Epoch 13/100\n",
            "100/100 [==============================] - 18s 178ms/step - loss: 0.0918 - acc: 0.9635 - val_loss: 0.1547 - val_acc: 0.9610\n",
            "Epoch 14/100\n",
            "100/100 [==============================] - 18s 177ms/step - loss: 0.1093 - acc: 0.9580 - val_loss: 0.0236 - val_acc: 0.9580\n",
            "Epoch 15/100\n",
            "100/100 [==============================] - 18s 177ms/step - loss: 0.1024 - acc: 0.9580 - val_loss: 0.0070 - val_acc: 0.9570\n",
            "Epoch 16/100\n",
            "100/100 [==============================] - 18s 177ms/step - loss: 0.0859 - acc: 0.9670 - val_loss: 0.2357 - val_acc: 0.9580\n",
            "Epoch 17/100\n",
            "100/100 [==============================] - 18s 179ms/step - loss: 0.0940 - acc: 0.9635 - val_loss: 0.4500 - val_acc: 0.9570\n",
            "Epoch 18/100\n",
            "100/100 [==============================] - 18s 178ms/step - loss: 0.0949 - acc: 0.9625 - val_loss: 0.0065 - val_acc: 0.9630\n",
            "Epoch 19/100\n",
            "100/100 [==============================] - 18s 178ms/step - loss: 0.1122 - acc: 0.9570 - val_loss: 0.2039 - val_acc: 0.9590\n",
            "Epoch 20/100\n",
            "100/100 [==============================] - 18s 178ms/step - loss: 0.0908 - acc: 0.9685 - val_loss: 0.4627 - val_acc: 0.9600\n",
            "Epoch 21/100\n",
            "100/100 [==============================] - 18s 180ms/step - loss: 0.0851 - acc: 0.9665 - val_loss: 0.1635 - val_acc: 0.9550\n",
            "Epoch 22/100\n",
            "100/100 [==============================] - 18s 179ms/step - loss: 0.0978 - acc: 0.9610 - val_loss: 0.2509 - val_acc: 0.9580\n",
            "Epoch 23/100\n",
            "100/100 [==============================] - 18s 177ms/step - loss: 0.0854 - acc: 0.9660 - val_loss: 0.2019 - val_acc: 0.9560\n",
            "Epoch 24/100\n",
            "100/100 [==============================] - 18s 178ms/step - loss: 0.1010 - acc: 0.9585 - val_loss: 0.2137 - val_acc: 0.9530\n",
            "Epoch 25/100\n",
            "100/100 [==============================] - 18s 177ms/step - loss: 0.0902 - acc: 0.9665 - val_loss: 0.0058 - val_acc: 0.9610\n",
            "Epoch 26/100\n",
            "100/100 [==============================] - 18s 179ms/step - loss: 0.0984 - acc: 0.9625 - val_loss: 0.0178 - val_acc: 0.9600\n",
            "Epoch 27/100\n",
            "100/100 [==============================] - 18s 178ms/step - loss: 0.0833 - acc: 0.9700 - val_loss: 0.1517 - val_acc: 0.9580\n",
            "Epoch 28/100\n",
            "100/100 [==============================] - 18s 179ms/step - loss: 0.0885 - acc: 0.9645 - val_loss: 0.1827 - val_acc: 0.9610\n",
            "Epoch 29/100\n",
            "100/100 [==============================] - 18s 177ms/step - loss: 0.0892 - acc: 0.9710 - val_loss: 0.0220 - val_acc: 0.9600\n",
            "Epoch 30/100\n",
            "100/100 [==============================] - 18s 179ms/step - loss: 0.1009 - acc: 0.9635 - val_loss: 0.0161 - val_acc: 0.9610\n",
            "Epoch 31/100\n",
            "100/100 [==============================] - 18s 178ms/step - loss: 0.0826 - acc: 0.9660 - val_loss: 0.0394 - val_acc: 0.9600\n",
            "Epoch 32/100\n",
            "100/100 [==============================] - 18s 177ms/step - loss: 0.0987 - acc: 0.9650 - val_loss: 0.0575 - val_acc: 0.9600\n",
            "Epoch 33/100\n",
            "100/100 [==============================] - 18s 177ms/step - loss: 0.0925 - acc: 0.9645 - val_loss: 0.0147 - val_acc: 0.9610\n",
            "Epoch 34/100\n",
            "100/100 [==============================] - 18s 178ms/step - loss: 0.0886 - acc: 0.9650 - val_loss: 0.1657 - val_acc: 0.9600\n",
            "Epoch 35/100\n",
            "100/100 [==============================] - 18s 179ms/step - loss: 0.0837 - acc: 0.9680 - val_loss: 0.0257 - val_acc: 0.9630\n",
            "Epoch 36/100\n",
            "100/100 [==============================] - 18s 178ms/step - loss: 0.0852 - acc: 0.9715 - val_loss: 0.0091 - val_acc: 0.9570\n",
            "Epoch 37/100\n",
            "100/100 [==============================] - 18s 178ms/step - loss: 0.0784 - acc: 0.9715 - val_loss: 0.2410 - val_acc: 0.9560\n",
            "Epoch 38/100\n",
            "100/100 [==============================] - 18s 181ms/step - loss: 0.0930 - acc: 0.9710 - val_loss: 0.0522 - val_acc: 0.9570\n",
            "Epoch 39/100\n",
            "100/100 [==============================] - 18s 178ms/step - loss: 0.0817 - acc: 0.9700 - val_loss: 0.0369 - val_acc: 0.9630\n",
            "Epoch 40/100\n",
            "100/100 [==============================] - 18s 177ms/step - loss: 0.0698 - acc: 0.9725 - val_loss: 0.1563 - val_acc: 0.9630\n",
            "Epoch 41/100\n",
            "100/100 [==============================] - 18s 177ms/step - loss: 0.0788 - acc: 0.9720 - val_loss: 0.2818 - val_acc: 0.9620\n",
            "Epoch 42/100\n",
            "100/100 [==============================] - 18s 177ms/step - loss: 0.0759 - acc: 0.9735 - val_loss: 0.0052 - val_acc: 0.9610\n",
            "Epoch 43/100\n",
            "100/100 [==============================] - 18s 177ms/step - loss: 0.0765 - acc: 0.9720 - val_loss: 0.1155 - val_acc: 0.9630\n",
            "Epoch 44/100\n",
            "100/100 [==============================] - 18s 179ms/step - loss: 0.0846 - acc: 0.9710 - val_loss: 0.3694 - val_acc: 0.9610\n",
            "Epoch 45/100\n",
            "100/100 [==============================] - 18s 180ms/step - loss: 0.0779 - acc: 0.9720 - val_loss: 0.3752 - val_acc: 0.9530\n",
            "Epoch 46/100\n",
            "100/100 [==============================] - 18s 177ms/step - loss: 0.0802 - acc: 0.9705 - val_loss: 0.3674 - val_acc: 0.9590\n",
            "Epoch 47/100\n",
            "100/100 [==============================] - 18s 177ms/step - loss: 0.0847 - acc: 0.9725 - val_loss: 0.1536 - val_acc: 0.9630\n",
            "Epoch 48/100\n",
            "100/100 [==============================] - 18s 178ms/step - loss: 0.0700 - acc: 0.9695 - val_loss: 0.1737 - val_acc: 0.9590\n",
            "Epoch 49/100\n",
            "100/100 [==============================] - 18s 178ms/step - loss: 0.0991 - acc: 0.9635 - val_loss: 0.0159 - val_acc: 0.9600\n",
            "Epoch 50/100\n",
            "100/100 [==============================] - 18s 177ms/step - loss: 0.0792 - acc: 0.9655 - val_loss: 0.0036 - val_acc: 0.9560\n",
            "Epoch 51/100\n",
            "100/100 [==============================] - 18s 177ms/step - loss: 0.0917 - acc: 0.9635 - val_loss: 0.0089 - val_acc: 0.9550\n",
            "Epoch 52/100\n",
            "100/100 [==============================] - 18s 176ms/step - loss: 0.0981 - acc: 0.9655 - val_loss: 0.1738 - val_acc: 0.9630\n",
            "Epoch 53/100\n",
            "100/100 [==============================] - 18s 179ms/step - loss: 0.0870 - acc: 0.9675 - val_loss: 0.2037 - val_acc: 0.9610\n",
            "Epoch 54/100\n",
            "100/100 [==============================] - 18s 177ms/step - loss: 0.0925 - acc: 0.9635 - val_loss: 0.0356 - val_acc: 0.9520\n",
            "Epoch 55/100\n",
            "100/100 [==============================] - 18s 178ms/step - loss: 0.0868 - acc: 0.9660 - val_loss: 0.2116 - val_acc: 0.9560\n",
            "Epoch 56/100\n",
            "100/100 [==============================] - 18s 179ms/step - loss: 0.0883 - acc: 0.9645 - val_loss: 0.0966 - val_acc: 0.9600\n",
            "Epoch 57/100\n",
            "100/100 [==============================] - 18s 178ms/step - loss: 0.0736 - acc: 0.9730 - val_loss: 0.2412 - val_acc: 0.9540\n",
            "Epoch 58/100\n",
            "100/100 [==============================] - 18s 177ms/step - loss: 0.0931 - acc: 0.9615 - val_loss: 0.3773 - val_acc: 0.9450\n",
            "Epoch 59/100\n",
            "100/100 [==============================] - 18s 176ms/step - loss: 0.0789 - acc: 0.9675 - val_loss: 0.2741 - val_acc: 0.9550\n",
            "Epoch 60/100\n",
            "100/100 [==============================] - 18s 177ms/step - loss: 0.0804 - acc: 0.9680 - val_loss: 0.4864 - val_acc: 0.9580\n",
            "Epoch 61/100\n",
            "100/100 [==============================] - 18s 177ms/step - loss: 0.0728 - acc: 0.9745 - val_loss: 0.0601 - val_acc: 0.9490\n",
            "Epoch 62/100\n",
            "100/100 [==============================] - 18s 179ms/step - loss: 0.0731 - acc: 0.9715 - val_loss: 0.0920 - val_acc: 0.9580\n",
            "Epoch 63/100\n",
            "100/100 [==============================] - 18s 178ms/step - loss: 0.0931 - acc: 0.9670 - val_loss: 0.0737 - val_acc: 0.9530\n",
            "Epoch 64/100\n",
            "100/100 [==============================] - 18s 177ms/step - loss: 0.0684 - acc: 0.9730 - val_loss: 0.0099 - val_acc: 0.9540\n",
            "Epoch 65/100\n",
            "100/100 [==============================] - 18s 178ms/step - loss: 0.0785 - acc: 0.9700 - val_loss: 4.3329e-04 - val_acc: 0.9560\n",
            "Epoch 66/100\n",
            "100/100 [==============================] - 18s 178ms/step - loss: 0.0630 - acc: 0.9795 - val_loss: 0.1827 - val_acc: 0.9580\n",
            "Epoch 67/100\n",
            "100/100 [==============================] - 18s 177ms/step - loss: 0.0853 - acc: 0.9665 - val_loss: 0.3291 - val_acc: 0.9570\n",
            "Epoch 68/100\n",
            "100/100 [==============================] - 18s 177ms/step - loss: 0.0672 - acc: 0.9755 - val_loss: 0.0033 - val_acc: 0.9560\n",
            "Epoch 69/100\n",
            "100/100 [==============================] - 18s 177ms/step - loss: 0.0551 - acc: 0.9815 - val_loss: 0.3646 - val_acc: 0.9590\n",
            "Epoch 70/100\n",
            "100/100 [==============================] - 18s 177ms/step - loss: 0.0826 - acc: 0.9680 - val_loss: 0.0499 - val_acc: 0.9540\n",
            "Epoch 71/100\n",
            "100/100 [==============================] - 18s 178ms/step - loss: 0.0766 - acc: 0.9715 - val_loss: 0.0669 - val_acc: 0.9560\n",
            "Epoch 72/100\n",
            "100/100 [==============================] - 18s 176ms/step - loss: 0.0815 - acc: 0.9640 - val_loss: 3.5892e-04 - val_acc: 0.9590\n",
            "Epoch 73/100\n",
            "100/100 [==============================] - 18s 179ms/step - loss: 0.0793 - acc: 0.9680 - val_loss: 0.3663 - val_acc: 0.9590\n",
            "Epoch 74/100\n",
            "100/100 [==============================] - 18s 175ms/step - loss: 0.0909 - acc: 0.9640 - val_loss: 0.0861 - val_acc: 0.9620\n",
            "Epoch 75/100\n",
            "100/100 [==============================] - 18s 177ms/step - loss: 0.0720 - acc: 0.9690 - val_loss: 0.0163 - val_acc: 0.9580\n",
            "Epoch 76/100\n",
            "100/100 [==============================] - 18s 177ms/step - loss: 0.0620 - acc: 0.9750 - val_loss: 0.0312 - val_acc: 0.9620\n",
            "Epoch 77/100\n",
            "100/100 [==============================] - 18s 177ms/step - loss: 0.0824 - acc: 0.9705 - val_loss: 0.0987 - val_acc: 0.9580\n",
            "Epoch 78/100\n",
            "100/100 [==============================] - 18s 177ms/step - loss: 0.0696 - acc: 0.9765 - val_loss: 0.3228 - val_acc: 0.9580\n",
            "Epoch 79/100\n",
            "100/100 [==============================] - 18s 177ms/step - loss: 0.0653 - acc: 0.9750 - val_loss: 0.0321 - val_acc: 0.9580\n",
            "Epoch 80/100\n",
            "100/100 [==============================] - 18s 177ms/step - loss: 0.0756 - acc: 0.9730 - val_loss: 0.0041 - val_acc: 0.9570\n",
            "Epoch 81/100\n",
            "100/100 [==============================] - 18s 177ms/step - loss: 0.0715 - acc: 0.9725 - val_loss: 0.0793 - val_acc: 0.9570\n",
            "Epoch 82/100\n",
            "100/100 [==============================] - 18s 176ms/step - loss: 0.0620 - acc: 0.9745 - val_loss: 0.1447 - val_acc: 0.9560\n",
            "Epoch 83/100\n",
            "100/100 [==============================] - 18s 176ms/step - loss: 0.0690 - acc: 0.9735 - val_loss: 0.4200 - val_acc: 0.9600\n",
            "Epoch 84/100\n",
            "100/100 [==============================] - 18s 177ms/step - loss: 0.0811 - acc: 0.9695 - val_loss: 0.3934 - val_acc: 0.9560\n",
            "Epoch 85/100\n",
            "100/100 [==============================] - 18s 177ms/step - loss: 0.0781 - acc: 0.9700 - val_loss: 0.0244 - val_acc: 0.9570\n",
            "Epoch 86/100\n",
            "100/100 [==============================] - 18s 176ms/step - loss: 0.0805 - acc: 0.9720 - val_loss: 0.0034 - val_acc: 0.9590\n",
            "Epoch 87/100\n",
            "100/100 [==============================] - 18s 176ms/step - loss: 0.0713 - acc: 0.9755 - val_loss: 0.0248 - val_acc: 0.9580\n",
            "Epoch 88/100\n",
            "100/100 [==============================] - 18s 177ms/step - loss: 0.0696 - acc: 0.9745 - val_loss: 0.2196 - val_acc: 0.9610\n",
            "Epoch 89/100\n",
            "100/100 [==============================] - 18s 177ms/step - loss: 0.0679 - acc: 0.9730 - val_loss: 0.2640 - val_acc: 0.9590\n",
            "Epoch 90/100\n",
            "100/100 [==============================] - 18s 177ms/step - loss: 0.0723 - acc: 0.9690 - val_loss: 0.3413 - val_acc: 0.9590\n",
            "Epoch 91/100\n",
            "100/100 [==============================] - 18s 177ms/step - loss: 0.0647 - acc: 0.9730 - val_loss: 0.3027 - val_acc: 0.9610\n",
            "Epoch 92/100\n",
            "100/100 [==============================] - 18s 176ms/step - loss: 0.0698 - acc: 0.9775 - val_loss: 0.0029 - val_acc: 0.9610\n",
            "Epoch 93/100\n",
            "100/100 [==============================] - 18s 177ms/step - loss: 0.0781 - acc: 0.9740 - val_loss: 0.1986 - val_acc: 0.9580\n",
            "Epoch 94/100\n",
            "100/100 [==============================] - 18s 176ms/step - loss: 0.0727 - acc: 0.9755 - val_loss: 0.0950 - val_acc: 0.9590\n",
            "Epoch 95/100\n",
            "100/100 [==============================] - 18s 175ms/step - loss: 0.0671 - acc: 0.9760 - val_loss: 0.1047 - val_acc: 0.9610\n",
            "Epoch 96/100\n",
            "100/100 [==============================] - 18s 177ms/step - loss: 0.0735 - acc: 0.9735 - val_loss: 0.0076 - val_acc: 0.9590\n",
            "Epoch 97/100\n",
            "100/100 [==============================] - 18s 178ms/step - loss: 0.0739 - acc: 0.9755 - val_loss: 0.6258 - val_acc: 0.9540\n",
            "Epoch 98/100\n",
            "100/100 [==============================] - 18s 177ms/step - loss: 0.0687 - acc: 0.9735 - val_loss: 0.1690 - val_acc: 0.9600\n",
            "Epoch 99/100\n",
            "100/100 [==============================] - 18s 176ms/step - loss: 0.0647 - acc: 0.9775 - val_loss: 0.0507 - val_acc: 0.9590\n",
            "Epoch 100/100\n",
            "100/100 [==============================] - 18s 176ms/step - loss: 0.0646 - acc: 0.9755 - val_loss: 0.0281 - val_acc: 0.9550\n"
          ],
          "name": "stdout"
        }
      ]
    },
    {
      "cell_type": "markdown",
      "metadata": {
        "id": "eVBQgh5M-Rtz",
        "colab_type": "text"
      },
      "source": [
        "## Display learning curves during fine-tuning"
      ]
    },
    {
      "cell_type": "code",
      "metadata": {
        "id": "mbkIw7Ie-NP4",
        "colab_type": "code",
        "outputId": "5b454ed6-6c2b-4558-bb14-e587e12cf344",
        "colab": {
          "base_uri": "https://localhost:8080/",
          "height": 545
        }
      },
      "source": [
        "%matplotlib inline\n",
        "\n",
        "import matplotlib.pyplot as plt\n",
        "\n",
        "acc = history.history['acc']\n",
        "val_acc = history.history['val_acc']\n",
        "\n",
        "loss = history.history['loss']\n",
        "val_loss = history.history['val_loss']\n",
        "\n",
        "epochs = range(1, len(acc) + 1)\n",
        "\n",
        "# training and validation accuracy\n",
        "\n",
        "plt.plot(epochs, acc, 'bo', label='training acc')\n",
        "plt.plot(epochs, val_acc, 'b', label='validation acc')\n",
        "plt.title('training and validation accuracy')\n",
        "plt.legend()\n",
        "\n",
        "plt.figure()\n",
        "\n",
        "# training and validation loss\n",
        "\n",
        "plt.plot(epochs, loss, 'bo', label='training loss')\n",
        "plt.plot(epochs, val_loss, 'b', label='validation loss')\n",
        "plt.title('training and validation loss')\n",
        "plt.legend()\n",
        "\n",
        "plt.show()"
      ],
      "execution_count": 0,
      "outputs": [
        {
          "output_type": "display_data",
          "data": {
            "image/png": "[encoded data removed]",
            "text/plain": [
              "<Figure size 432x288 with 1 Axes>"
            ]
          },
          "metadata": {
            "tags": [],
            "needs_background": "light"
          }
        },
        {
          "output_type": "display_data",
          "data": {
            "image/png": "[encoded data removed]",
            "text/plain": [
              "<Figure size 432x288 with 1 Axes>"
            ]
          },
          "metadata": {
            "tags": [],
            "needs_background": "light"
          }
        }
      ]
    },
    {
      "cell_type": "markdown",
      "metadata": {
        "id": "he3Nw6TOJwjx",
        "colab_type": "text"
      },
      "source": [
        "## Print out validation loss and accuracy"
      ]
    },
    {
      "cell_type": "code",
      "metadata": {
        "id": "SVQtrk7uJdhl",
        "colab_type": "code",
        "colab": {}
      },
      "source": [
        "val_loss, val_acc = model.evaluate_generator(validation_generator, steps=50)"
      ],
      "execution_count": 0,
      "outputs": []
    },
    {
      "cell_type": "code",
      "metadata": {
        "id": "HpdddLi1SUMe",
        "colab_type": "code",
        "outputId": "efd40d73-e7bf-413c-9d83-62778691d6a0",
        "colab": {
          "base_uri": "https://localhost:8080/",
          "height": 51
        }
      },
      "source": [
        "print(\"Validation loss:\", val_loss)\n",
        "print(\"Validation accuracy:\", val_acc)"
      ],
      "execution_count": 0,
      "outputs": [
        {
          "output_type": "stream",
          "text": [
            "Validation loss: 0.6227883696556091\n",
            "Validation accuracy: 0.9549999833106995\n"
          ],
          "name": "stdout"
        }
      ]
    },
    {
      "cell_type": "markdown",
      "metadata": {
        "id": "7Ww756WToby8",
        "colab_type": "text"
      },
      "source": [
        "## Save the model"
      ]
    },
    {
      "cell_type": "code",
      "metadata": {
        "id": "0lTUpUdwobKW",
        "colab_type": "code",
        "colab": {}
      },
      "source": [
        "model_fname = 'cats_and_dogs_small_4.h5' \n",
        "model.save(model_fname)"
      ],
      "execution_count": 0,
      "outputs": []
    },
    {
      "cell_type": "code",
      "metadata": {
        "id": "YhEoI8ZTok-X",
        "colab_type": "code",
        "outputId": "48b85a11-5b7e-492d-efbd-66e767a44fa0",
        "colab": {
          "base_uri": "https://localhost:8080/",
          "height": 344
        }
      },
      "source": [
        "from google.colab import files\n",
        "\n",
        "with open(model_fname, 'r') as f:\n",
        "  files.download(model_fname)"
      ],
      "execution_count": 0,
      "outputs": [
        {
          "output_type": "error",
          "ename": "MessageError",
          "evalue": "ignored",
          "traceback": [
            "\u001b[0;31m---------------------------------------------------------------------------\u001b[0m",
            "\u001b[0;31mMessageError\u001b[0m                              Traceback (most recent call last)",
            "\u001b[0;32m<ipython-input-16-9a4221e8fa3a>\u001b[0m in \u001b[0;36m<module>\u001b[0;34m()\u001b[0m\n\u001b[1;32m      2\u001b[0m \u001b[0;34m\u001b[0m\u001b[0m\n\u001b[1;32m      3\u001b[0m \u001b[0;32mwith\u001b[0m \u001b[0mopen\u001b[0m\u001b[0;34m(\u001b[0m\u001b[0mmodel_fname\u001b[0m\u001b[0;34m,\u001b[0m \u001b[0;34m'r'\u001b[0m\u001b[0;34m)\u001b[0m \u001b[0;32mas\u001b[0m \u001b[0mf\u001b[0m\u001b[0;34m:\u001b[0m\u001b[0;34m\u001b[0m\u001b[0;34m\u001b[0m\u001b[0m\n\u001b[0;32m----> 4\u001b[0;31m   \u001b[0mfiles\u001b[0m\u001b[0;34m.\u001b[0m\u001b[0mdownload\u001b[0m\u001b[0;34m(\u001b[0m\u001b[0mmodel_fname\u001b[0m\u001b[0;34m)\u001b[0m\u001b[0;34m\u001b[0m\u001b[0;34m\u001b[0m\u001b[0m\n\u001b[0m",
            "\u001b[0;32m/usr/local/lib/python3.6/dist-packages/google/colab/files.py\u001b[0m in \u001b[0;36mdownload\u001b[0;34m(filename)\u001b[0m\n\u001b[1;32m    176\u001b[0m       \u001b[0;34m'port'\u001b[0m\u001b[0;34m:\u001b[0m \u001b[0mport\u001b[0m\u001b[0;34m,\u001b[0m\u001b[0;34m\u001b[0m\u001b[0;34m\u001b[0m\u001b[0m\n\u001b[1;32m    177\u001b[0m       \u001b[0;34m'path'\u001b[0m\u001b[0;34m:\u001b[0m \u001b[0m_os\u001b[0m\u001b[0;34m.\u001b[0m\u001b[0mpath\u001b[0m\u001b[0;34m.\u001b[0m\u001b[0mabspath\u001b[0m\u001b[0;34m(\u001b[0m\u001b[0mfilename\u001b[0m\u001b[0;34m)\u001b[0m\u001b[0;34m,\u001b[0m\u001b[0;34m\u001b[0m\u001b[0;34m\u001b[0m\u001b[0m\n\u001b[0;32m--> 178\u001b[0;31m       \u001b[0;34m'name'\u001b[0m\u001b[0;34m:\u001b[0m \u001b[0m_os\u001b[0m\u001b[0;34m.\u001b[0m\u001b[0mpath\u001b[0m\u001b[0;34m.\u001b[0m\u001b[0mbasename\u001b[0m\u001b[0;34m(\u001b[0m\u001b[0mfilename\u001b[0m\u001b[0;34m)\u001b[0m\u001b[0;34m,\u001b[0m\u001b[0;34m\u001b[0m\u001b[0;34m\u001b[0m\u001b[0m\n\u001b[0m\u001b[1;32m    179\u001b[0m   })\n",
            "\u001b[0;32m/usr/local/lib/python3.6/dist-packages/google/colab/output/_js.py\u001b[0m in \u001b[0;36meval_js\u001b[0;34m(script, ignore_result)\u001b[0m\n\u001b[1;32m     37\u001b[0m   \u001b[0;32mif\u001b[0m \u001b[0mignore_result\u001b[0m\u001b[0;34m:\u001b[0m\u001b[0;34m\u001b[0m\u001b[0;34m\u001b[0m\u001b[0m\n\u001b[1;32m     38\u001b[0m     \u001b[0;32mreturn\u001b[0m\u001b[0;34m\u001b[0m\u001b[0;34m\u001b[0m\u001b[0m\n\u001b[0;32m---> 39\u001b[0;31m   \u001b[0;32mreturn\u001b[0m \u001b[0m_message\u001b[0m\u001b[0;34m.\u001b[0m\u001b[0mread_reply_from_input\u001b[0m\u001b[0;34m(\u001b[0m\u001b[0mrequest_id\u001b[0m\u001b[0;34m)\u001b[0m\u001b[0;34m\u001b[0m\u001b[0;34m\u001b[0m\u001b[0m\n\u001b[0m\u001b[1;32m     40\u001b[0m \u001b[0;34m\u001b[0m\u001b[0m\n\u001b[1;32m     41\u001b[0m \u001b[0;34m\u001b[0m\u001b[0m\n",
            "\u001b[0;32m/usr/local/lib/python3.6/dist-packages/google/colab/_message.py\u001b[0m in \u001b[0;36mread_reply_from_input\u001b[0;34m(message_id, timeout_sec)\u001b[0m\n\u001b[1;32m    104\u001b[0m         reply.get('colab_msg_id') == message_id):\n\u001b[1;32m    105\u001b[0m       \u001b[0;32mif\u001b[0m \u001b[0;34m'error'\u001b[0m \u001b[0;32min\u001b[0m \u001b[0mreply\u001b[0m\u001b[0;34m:\u001b[0m\u001b[0;34m\u001b[0m\u001b[0;34m\u001b[0m\u001b[0m\n\u001b[0;32m--> 106\u001b[0;31m         \u001b[0;32mraise\u001b[0m \u001b[0mMessageError\u001b[0m\u001b[0;34m(\u001b[0m\u001b[0mreply\u001b[0m\u001b[0;34m[\u001b[0m\u001b[0;34m'error'\u001b[0m\u001b[0;34m]\u001b[0m\u001b[0;34m)\u001b[0m\u001b[0;34m\u001b[0m\u001b[0;34m\u001b[0m\u001b[0m\n\u001b[0m\u001b[1;32m    107\u001b[0m       \u001b[0;32mreturn\u001b[0m \u001b[0mreply\u001b[0m\u001b[0;34m.\u001b[0m\u001b[0mget\u001b[0m\u001b[0;34m(\u001b[0m\u001b[0;34m'data'\u001b[0m\u001b[0;34m,\u001b[0m \u001b[0;32mNone\u001b[0m\u001b[0;34m)\u001b[0m\u001b[0;34m\u001b[0m\u001b[0;34m\u001b[0m\u001b[0m\n\u001b[1;32m    108\u001b[0m \u001b[0;34m\u001b[0m\u001b[0m\n",
            "\u001b[0;31mMessageError\u001b[0m: TypeError: Failed to fetch"
          ]
        }
      ]
    },
    {
      "cell_type": "code",
      "metadata": {
        "id": "VNEL4CCcS0Oj",
        "colab_type": "code",
        "colab": {}
      },
      "source": [
        ""
      ],
      "execution_count": 0,
      "outputs": []
    },
    {
      "cell_type": "code",
      "metadata": {
        "id": "hfa9ABE19MXO",
        "colab_type": "code",
        "colab": {}
      },
      "source": [
        ""
      ],
      "execution_count": 0,
      "outputs": []
    }
  ]
}